{
  "cells": [
    {
      "cell_type": "markdown",
      "metadata": {
        "id": "view-in-github",
        "colab_type": "text"
      },
      "source": [
        "<a href=\"https://colab.research.google.com/github/Mreeb/YOLO-V8-CLASSIFICATION-ON_Dermnet/blob/master/1_Classification_YOLOv8_6_Classes.ipynb\" target=\"_parent\"><img src=\"https://colab.research.google.com/assets/colab-badge.svg\" alt=\"Open In Colab\"/></a>"
      ]
    },
    {
      "cell_type": "markdown",
      "metadata": {
        "id": "HqSGPQqgUy72"
      },
      "source": [
        "# Connect Runtime To a GPU"
      ]
    },
    {
      "cell_type": "code",
      "execution_count": 2,
      "metadata": {
        "colab": {
          "base_uri": "https://localhost:8080/"
        },
        "id": "SfJ6nTgtUQ8o",
        "outputId": "84e4d1a9-2f19-4eec-f707-8b2aee97cc91"
      },
      "outputs": [
        {
          "output_type": "stream",
          "name": "stdout",
          "text": [
            "Mon Jan  8 18:29:28 2024       \n",
            "+---------------------------------------------------------------------------------------+\n",
            "| NVIDIA-SMI 535.104.05             Driver Version: 535.104.05   CUDA Version: 12.2     |\n",
            "|-----------------------------------------+----------------------+----------------------+\n",
            "| GPU  Name                 Persistence-M | Bus-Id        Disp.A | Volatile Uncorr. ECC |\n",
            "| Fan  Temp   Perf          Pwr:Usage/Cap |         Memory-Usage | GPU-Util  Compute M. |\n",
            "|                                         |                      |               MIG M. |\n",
            "|=========================================+======================+======================|\n",
            "|   0  Tesla T4                       Off | 00000000:00:04.0 Off |                    0 |\n",
            "| N/A   36C    P8               9W /  70W |      0MiB / 15360MiB |      0%      Default |\n",
            "|                                         |                      |                  N/A |\n",
            "+-----------------------------------------+----------------------+----------------------+\n",
            "                                                                                         \n",
            "+---------------------------------------------------------------------------------------+\n",
            "| Processes:                                                                            |\n",
            "|  GPU   GI   CI        PID   Type   Process name                            GPU Memory |\n",
            "|        ID   ID                                                             Usage      |\n",
            "|=======================================================================================|\n",
            "|  No running processes found                                                           |\n",
            "+---------------------------------------------------------------------------------------+\n"
          ]
        }
      ],
      "source": [
        "!nvidia-smi"
      ]
    },
    {
      "cell_type": "markdown",
      "metadata": {
        "id": "hyEfQb3nRlPb"
      },
      "source": [
        "# Installing Libraies\n"
      ]
    },
    {
      "cell_type": "code",
      "execution_count": 2,
      "metadata": {
        "colab": {
          "base_uri": "https://localhost:8080/",
          "height": 1000
        },
        "id": "dof-ulC0Rd0K",
        "outputId": "8c0e212c-3d8a-47b1-931f-1a09bb16b371"
      },
      "outputs": [
        {
          "output_type": "stream",
          "name": "stdout",
          "text": [
            "Requirement already satisfied: numpy in /usr/local/lib/python3.10/dist-packages (1.23.5)\n",
            "Collecting numpy\n",
            "  Downloading numpy-1.26.3-cp310-cp310-manylinux_2_17_x86_64.manylinux2014_x86_64.whl (18.2 MB)\n",
            "\u001b[2K     \u001b[90m━━━━━━━━━━━━━━━━━━━━━━━━━━━━━━━━━━━━━━━━\u001b[0m \u001b[32m18.2/18.2 MB\u001b[0m \u001b[31m40.3 MB/s\u001b[0m eta \u001b[36m0:00:00\u001b[0m\n",
            "\u001b[?25hInstalling collected packages: numpy\n",
            "  Attempting uninstall: numpy\n",
            "    Found existing installation: numpy 1.23.5\n",
            "    Uninstalling numpy-1.23.5:\n",
            "      Successfully uninstalled numpy-1.23.5\n",
            "\u001b[31mERROR: pip's dependency resolver does not currently take into account all the packages that are installed. This behaviour is the source of the following dependency conflicts.\n",
            "lida 0.0.10 requires fastapi, which is not installed.\n",
            "lida 0.0.10 requires kaleido, which is not installed.\n",
            "lida 0.0.10 requires python-multipart, which is not installed.\n",
            "lida 0.0.10 requires uvicorn, which is not installed.\u001b[0m\u001b[31m\n",
            "\u001b[0mSuccessfully installed numpy-1.26.3\n",
            "Collecting ultralytics==8.0.58\n",
            "  Downloading ultralytics-8.0.58-py3-none-any.whl (486 kB)\n",
            "\u001b[2K     \u001b[90m━━━━━━━━━━━━━━━━━━━━━━━━━━━━━━━━━━━━━━━━\u001b[0m \u001b[32m486.8/486.8 kB\u001b[0m \u001b[31m8.2 MB/s\u001b[0m eta \u001b[36m0:00:00\u001b[0m\n",
            "\u001b[?25hCollecting roboflow\n",
            "  Downloading roboflow-1.1.15-py3-none-any.whl (69 kB)\n",
            "\u001b[2K     \u001b[90m━━━━━━━━━━━━━━━━━━━━━━━━━━━━━━━━━━━━━━━━\u001b[0m \u001b[32m69.9/69.9 kB\u001b[0m \u001b[31m10.2 MB/s\u001b[0m eta \u001b[36m0:00:00\u001b[0m\n",
            "\u001b[?25hCollecting numpy==1.24.2\n",
            "  Downloading numpy-1.24.2-cp310-cp310-manylinux_2_17_x86_64.manylinux2014_x86_64.whl (17.3 MB)\n",
            "\u001b[2K     \u001b[90m━━━━━━━━━━━━━━━━━━━━━━━━━━━━━━━━━━━━━━━━\u001b[0m \u001b[32m17.3/17.3 MB\u001b[0m \u001b[31m31.5 MB/s\u001b[0m eta \u001b[36m0:00:00\u001b[0m\n",
            "\u001b[?25hRequirement already satisfied: matplotlib>=3.2.2 in /usr/local/lib/python3.10/dist-packages (from ultralytics==8.0.58) (3.7.1)\n",
            "Requirement already satisfied: opencv-python>=4.6.0 in /usr/local/lib/python3.10/dist-packages (from ultralytics==8.0.58) (4.8.0.76)\n",
            "Requirement already satisfied: Pillow>=7.1.2 in /usr/local/lib/python3.10/dist-packages (from ultralytics==8.0.58) (9.4.0)\n",
            "Requirement already satisfied: PyYAML>=5.3.1 in /usr/local/lib/python3.10/dist-packages (from ultralytics==8.0.58) (6.0.1)\n",
            "Requirement already satisfied: requests>=2.23.0 in /usr/local/lib/python3.10/dist-packages (from ultralytics==8.0.58) (2.31.0)\n",
            "Requirement already satisfied: scipy>=1.4.1 in /usr/local/lib/python3.10/dist-packages (from ultralytics==8.0.58) (1.11.4)\n",
            "Requirement already satisfied: torch>=1.7.0 in /usr/local/lib/python3.10/dist-packages (from ultralytics==8.0.58) (2.1.0+cu121)\n",
            "Requirement already satisfied: torchvision>=0.8.1 in /usr/local/lib/python3.10/dist-packages (from ultralytics==8.0.58) (0.16.0+cu121)\n",
            "Requirement already satisfied: tqdm>=4.64.0 in /usr/local/lib/python3.10/dist-packages (from ultralytics==8.0.58) (4.66.1)\n",
            "Requirement already satisfied: pandas>=1.1.4 in /usr/local/lib/python3.10/dist-packages (from ultralytics==8.0.58) (1.5.3)\n",
            "Requirement already satisfied: seaborn>=0.11.0 in /usr/local/lib/python3.10/dist-packages (from ultralytics==8.0.58) (0.12.2)\n",
            "Requirement already satisfied: psutil in /usr/local/lib/python3.10/dist-packages (from ultralytics==8.0.58) (5.9.5)\n",
            "Collecting thop>=0.1.1 (from ultralytics==8.0.58)\n",
            "  Downloading thop-0.1.1.post2209072238-py3-none-any.whl (15 kB)\n",
            "Collecting sentry-sdk (from ultralytics==8.0.58)\n",
            "  Downloading sentry_sdk-1.39.1-py2.py3-none-any.whl (254 kB)\n",
            "\u001b[2K     \u001b[90m━━━━━━━━━━━━━━━━━━━━━━━━━━━━━━━━━━━━━━━━\u001b[0m \u001b[32m254.1/254.1 kB\u001b[0m \u001b[31m25.9 MB/s\u001b[0m eta \u001b[36m0:00:00\u001b[0m\n",
            "\u001b[?25hCollecting certifi==2023.7.22 (from roboflow)\n",
            "  Downloading certifi-2023.7.22-py3-none-any.whl (158 kB)\n",
            "\u001b[2K     \u001b[90m━━━━━━━━━━━━━━━━━━━━━━━━━━━━━━━━━━━━━━━━\u001b[0m \u001b[32m158.3/158.3 kB\u001b[0m \u001b[31m16.6 MB/s\u001b[0m eta \u001b[36m0:00:00\u001b[0m\n",
            "\u001b[?25hCollecting chardet==4.0.0 (from roboflow)\n",
            "  Downloading chardet-4.0.0-py2.py3-none-any.whl (178 kB)\n",
            "\u001b[2K     \u001b[90m━━━━━━━━━━━━━━━━━━━━━━━━━━━━━━━━━━━━━━━━\u001b[0m \u001b[32m178.7/178.7 kB\u001b[0m \u001b[31m22.0 MB/s\u001b[0m eta \u001b[36m0:00:00\u001b[0m\n",
            "\u001b[?25hCollecting cycler==0.10.0 (from roboflow)\n",
            "  Downloading cycler-0.10.0-py2.py3-none-any.whl (6.5 kB)\n",
            "Collecting idna==2.10 (from roboflow)\n",
            "  Downloading idna-2.10-py2.py3-none-any.whl (58 kB)\n",
            "\u001b[2K     \u001b[90m━━━━━━━━━━━━━━━━━━━━━━━━━━━━━━━━━━━━━━━━\u001b[0m \u001b[32m58.8/58.8 kB\u001b[0m \u001b[31m8.2 MB/s\u001b[0m eta \u001b[36m0:00:00\u001b[0m\n",
            "\u001b[?25hRequirement already satisfied: kiwisolver>=1.3.1 in /usr/local/lib/python3.10/dist-packages (from roboflow) (1.4.5)\n",
            "Collecting opencv-python-headless==4.8.0.74 (from roboflow)\n",
            "  Downloading opencv_python_headless-4.8.0.74-cp37-abi3-manylinux_2_17_x86_64.manylinux2014_x86_64.whl (49.1 MB)\n",
            "\u001b[2K     \u001b[90m━━━━━━━━━━━━━━━━━━━━━━━━━━━━━━━━━━━━━━━━\u001b[0m \u001b[32m49.1/49.1 MB\u001b[0m \u001b[31m9.1 MB/s\u001b[0m eta \u001b[36m0:00:00\u001b[0m\n",
            "\u001b[?25hCollecting pyparsing==2.4.7 (from roboflow)\n",
            "  Downloading pyparsing-2.4.7-py2.py3-none-any.whl (67 kB)\n",
            "\u001b[2K     \u001b[90m━━━━━━━━━━━━━━━━━━━━━━━━━━━━━━━━━━━━━━━━\u001b[0m \u001b[32m67.8/67.8 kB\u001b[0m \u001b[31m9.2 MB/s\u001b[0m eta \u001b[36m0:00:00\u001b[0m\n",
            "\u001b[?25hRequirement already satisfied: python-dateutil in /usr/local/lib/python3.10/dist-packages (from roboflow) (2.8.2)\n",
            "Collecting python-dotenv (from roboflow)\n",
            "  Downloading python_dotenv-1.0.0-py3-none-any.whl (19 kB)\n",
            "Requirement already satisfied: six in /usr/local/lib/python3.10/dist-packages (from roboflow) (1.16.0)\n",
            "Collecting supervision (from roboflow)\n",
            "  Downloading supervision-0.17.1-py3-none-any.whl (77 kB)\n",
            "\u001b[2K     \u001b[90m━━━━━━━━━━━━━━━━━━━━━━━━━━━━━━━━━━━━━━━━\u001b[0m \u001b[32m77.5/77.5 kB\u001b[0m \u001b[31m8.6 MB/s\u001b[0m eta \u001b[36m0:00:00\u001b[0m\n",
            "\u001b[?25hRequirement already satisfied: urllib3>=1.26.6 in /usr/local/lib/python3.10/dist-packages (from roboflow) (2.0.7)\n",
            "Collecting requests-toolbelt (from roboflow)\n",
            "  Downloading requests_toolbelt-1.0.0-py2.py3-none-any.whl (54 kB)\n",
            "\u001b[2K     \u001b[90m━━━━━━━━━━━━━━━━━━━━━━━━━━━━━━━━━━━━━━━━\u001b[0m \u001b[32m54.5/54.5 kB\u001b[0m \u001b[31m7.5 MB/s\u001b[0m eta \u001b[36m0:00:00\u001b[0m\n",
            "\u001b[?25hCollecting python-magic (from roboflow)\n",
            "  Downloading python_magic-0.4.27-py2.py3-none-any.whl (13 kB)\n",
            "Requirement already satisfied: contourpy>=1.0.1 in /usr/local/lib/python3.10/dist-packages (from matplotlib>=3.2.2->ultralytics==8.0.58) (1.2.0)\n",
            "Requirement already satisfied: fonttools>=4.22.0 in /usr/local/lib/python3.10/dist-packages (from matplotlib>=3.2.2->ultralytics==8.0.58) (4.47.0)\n",
            "Requirement already satisfied: packaging>=20.0 in /usr/local/lib/python3.10/dist-packages (from matplotlib>=3.2.2->ultralytics==8.0.58) (23.2)\n",
            "Requirement already satisfied: pytz>=2020.1 in /usr/local/lib/python3.10/dist-packages (from pandas>=1.1.4->ultralytics==8.0.58) (2023.3.post1)\n",
            "Requirement already satisfied: charset-normalizer<4,>=2 in /usr/local/lib/python3.10/dist-packages (from requests>=2.23.0->ultralytics==8.0.58) (3.3.2)\n",
            "Requirement already satisfied: filelock in /usr/local/lib/python3.10/dist-packages (from torch>=1.7.0->ultralytics==8.0.58) (3.13.1)\n",
            "Requirement already satisfied: typing-extensions in /usr/local/lib/python3.10/dist-packages (from torch>=1.7.0->ultralytics==8.0.58) (4.5.0)\n",
            "Requirement already satisfied: sympy in /usr/local/lib/python3.10/dist-packages (from torch>=1.7.0->ultralytics==8.0.58) (1.12)\n",
            "Requirement already satisfied: networkx in /usr/local/lib/python3.10/dist-packages (from torch>=1.7.0->ultralytics==8.0.58) (3.2.1)\n",
            "Requirement already satisfied: jinja2 in /usr/local/lib/python3.10/dist-packages (from torch>=1.7.0->ultralytics==8.0.58) (3.1.2)\n",
            "Requirement already satisfied: fsspec in /usr/local/lib/python3.10/dist-packages (from torch>=1.7.0->ultralytics==8.0.58) (2023.6.0)\n",
            "Requirement already satisfied: triton==2.1.0 in /usr/local/lib/python3.10/dist-packages (from torch>=1.7.0->ultralytics==8.0.58) (2.1.0)\n",
            "Requirement already satisfied: MarkupSafe>=2.0 in /usr/local/lib/python3.10/dist-packages (from jinja2->torch>=1.7.0->ultralytics==8.0.58) (2.1.3)\n",
            "Requirement already satisfied: mpmath>=0.19 in /usr/local/lib/python3.10/dist-packages (from sympy->torch>=1.7.0->ultralytics==8.0.58) (1.3.0)\n",
            "Installing collected packages: python-magic, python-dotenv, pyparsing, numpy, idna, cycler, chardet, certifi, sentry-sdk, opencv-python-headless, thop, requests-toolbelt, supervision, ultralytics, roboflow\n",
            "  Attempting uninstall: pyparsing\n",
            "    Found existing installation: pyparsing 3.1.1\n",
            "    Uninstalling pyparsing-3.1.1:\n",
            "      Successfully uninstalled pyparsing-3.1.1\n",
            "  Attempting uninstall: numpy\n",
            "    Found existing installation: numpy 1.26.3\n",
            "    Uninstalling numpy-1.26.3:\n",
            "      Successfully uninstalled numpy-1.26.3\n",
            "  Attempting uninstall: idna\n",
            "    Found existing installation: idna 3.6\n",
            "    Uninstalling idna-3.6:\n",
            "      Successfully uninstalled idna-3.6\n",
            "  Attempting uninstall: cycler\n",
            "    Found existing installation: cycler 0.12.1\n",
            "    Uninstalling cycler-0.12.1:\n",
            "      Successfully uninstalled cycler-0.12.1\n",
            "  Attempting uninstall: chardet\n",
            "    Found existing installation: chardet 5.2.0\n",
            "    Uninstalling chardet-5.2.0:\n",
            "      Successfully uninstalled chardet-5.2.0\n",
            "  Attempting uninstall: certifi\n",
            "    Found existing installation: certifi 2023.11.17\n",
            "    Uninstalling certifi-2023.11.17:\n",
            "      Successfully uninstalled certifi-2023.11.17\n",
            "  Attempting uninstall: opencv-python-headless\n",
            "    Found existing installation: opencv-python-headless 4.9.0.80\n",
            "    Uninstalling opencv-python-headless-4.9.0.80:\n",
            "      Successfully uninstalled opencv-python-headless-4.9.0.80\n",
            "\u001b[31mERROR: pip's dependency resolver does not currently take into account all the packages that are installed. This behaviour is the source of the following dependency conflicts.\n",
            "lida 0.0.10 requires fastapi, which is not installed.\n",
            "lida 0.0.10 requires kaleido, which is not installed.\n",
            "lida 0.0.10 requires python-multipart, which is not installed.\n",
            "lida 0.0.10 requires uvicorn, which is not installed.\u001b[0m\u001b[31m\n",
            "\u001b[0mSuccessfully installed certifi-2023.7.22 chardet-4.0.0 cycler-0.10.0 idna-2.10 numpy-1.24.2 opencv-python-headless-4.8.0.74 pyparsing-2.4.7 python-dotenv-1.0.0 python-magic-0.4.27 requests-toolbelt-1.0.0 roboflow-1.1.15 sentry-sdk-1.39.1 supervision-0.17.1 thop-0.1.1.post2209072238 ultralytics-8.0.58\n"
          ]
        },
        {
          "output_type": "display_data",
          "data": {
            "application/vnd.colab-display-data+json": {
              "pip_warning": {
                "packages": [
                  "certifi",
                  "cycler",
                  "numpy",
                  "pyparsing"
                ]
              }
            }
          },
          "metadata": {}
        }
      ],
      "source": [
        "!pip install --upgrade numpy\n",
        "!pip install ultralytics==8.0.58 roboflow numpy==1.24.2"
      ]
    },
    {
      "cell_type": "markdown",
      "metadata": {
        "id": "0Axg3NmQR7Wh"
      },
      "source": [
        "# Mounting Drive"
      ]
    },
    {
      "cell_type": "code",
      "execution_count": null,
      "metadata": {
        "colab": {
          "base_uri": "https://localhost:8080/"
        },
        "id": "jUqMSmv1RuEX",
        "outputId": "9418115b-2191-4c2c-b4ba-3ff7e34a8274"
      },
      "outputs": [
        {
          "name": "stdout",
          "output_type": "stream",
          "text": [
            "Mounted at /content/drive\n"
          ]
        }
      ],
      "source": [
        "#from google.colab import drive\n",
        "#drive.mount('/content/drive')"
      ]
    },
    {
      "cell_type": "code",
      "source": [
        "!pip install roboflow\n",
        "\n",
        "from roboflow import Roboflow\n",
        "rf = Roboflow(api_key=\"C4pHQj9DsJmYjHwOLRr3\")\n",
        "project = rf.workspace(\"care-pftlv\").project(\"skin-disease-classification-6o4dw\")\n",
        "dataset = project.version(4).download(\"folder\")"
      ],
      "metadata": {
        "colab": {
          "base_uri": "https://localhost:8080/"
        },
        "id": "pcXNpHbYRlvk",
        "outputId": "26baa3fc-3a55-4dc3-b335-23c39ce2f195"
      },
      "execution_count": 1,
      "outputs": [
        {
          "output_type": "stream",
          "name": "stdout",
          "text": [
            "Requirement already satisfied: roboflow in /usr/local/lib/python3.10/dist-packages (1.1.15)\n",
            "Requirement already satisfied: certifi==2023.7.22 in /usr/local/lib/python3.10/dist-packages (from roboflow) (2023.7.22)\n",
            "Requirement already satisfied: chardet==4.0.0 in /usr/local/lib/python3.10/dist-packages (from roboflow) (4.0.0)\n",
            "Requirement already satisfied: cycler==0.10.0 in /usr/local/lib/python3.10/dist-packages (from roboflow) (0.10.0)\n",
            "Requirement already satisfied: idna==2.10 in /usr/local/lib/python3.10/dist-packages (from roboflow) (2.10)\n",
            "Requirement already satisfied: kiwisolver>=1.3.1 in /usr/local/lib/python3.10/dist-packages (from roboflow) (1.4.5)\n",
            "Requirement already satisfied: matplotlib in /usr/local/lib/python3.10/dist-packages (from roboflow) (3.7.1)\n",
            "Requirement already satisfied: numpy>=1.18.5 in /usr/local/lib/python3.10/dist-packages (from roboflow) (1.24.2)\n",
            "Requirement already satisfied: opencv-python-headless==4.8.0.74 in /usr/local/lib/python3.10/dist-packages (from roboflow) (4.8.0.74)\n",
            "Requirement already satisfied: Pillow>=7.1.2 in /usr/local/lib/python3.10/dist-packages (from roboflow) (9.4.0)\n",
            "Requirement already satisfied: pyparsing==2.4.7 in /usr/local/lib/python3.10/dist-packages (from roboflow) (2.4.7)\n",
            "Requirement already satisfied: python-dateutil in /usr/local/lib/python3.10/dist-packages (from roboflow) (2.8.2)\n",
            "Requirement already satisfied: python-dotenv in /usr/local/lib/python3.10/dist-packages (from roboflow) (1.0.0)\n",
            "Requirement already satisfied: requests in /usr/local/lib/python3.10/dist-packages (from roboflow) (2.31.0)\n",
            "Requirement already satisfied: six in /usr/local/lib/python3.10/dist-packages (from roboflow) (1.16.0)\n",
            "Requirement already satisfied: supervision in /usr/local/lib/python3.10/dist-packages (from roboflow) (0.17.1)\n",
            "Requirement already satisfied: urllib3>=1.26.6 in /usr/local/lib/python3.10/dist-packages (from roboflow) (2.0.7)\n",
            "Requirement already satisfied: tqdm>=4.41.0 in /usr/local/lib/python3.10/dist-packages (from roboflow) (4.66.1)\n",
            "Requirement already satisfied: PyYAML>=5.3.1 in /usr/local/lib/python3.10/dist-packages (from roboflow) (6.0.1)\n",
            "Requirement already satisfied: requests-toolbelt in /usr/local/lib/python3.10/dist-packages (from roboflow) (1.0.0)\n",
            "Requirement already satisfied: python-magic in /usr/local/lib/python3.10/dist-packages (from roboflow) (0.4.27)\n",
            "Requirement already satisfied: contourpy>=1.0.1 in /usr/local/lib/python3.10/dist-packages (from matplotlib->roboflow) (1.2.0)\n",
            "Requirement already satisfied: fonttools>=4.22.0 in /usr/local/lib/python3.10/dist-packages (from matplotlib->roboflow) (4.47.0)\n",
            "Requirement already satisfied: packaging>=20.0 in /usr/local/lib/python3.10/dist-packages (from matplotlib->roboflow) (23.2)\n",
            "Requirement already satisfied: charset-normalizer<4,>=2 in /usr/local/lib/python3.10/dist-packages (from requests->roboflow) (3.3.2)\n",
            "Requirement already satisfied: scipy>=1.9.0 in /usr/local/lib/python3.10/dist-packages (from supervision->roboflow) (1.11.4)\n",
            "loading Roboflow workspace...\n",
            "loading Roboflow project...\n"
          ]
        },
        {
          "output_type": "stream",
          "name": "stderr",
          "text": [
            "Downloading Dataset Version Zip in Skin-Disease-Classification-4 to folder:: 100%|██████████| 610171/610171 [00:35<00:00, 17426.51it/s]"
          ]
        },
        {
          "output_type": "stream",
          "name": "stdout",
          "text": [
            "\n"
          ]
        },
        {
          "output_type": "stream",
          "name": "stderr",
          "text": [
            "\n",
            "Extracting Dataset Version Zip to Skin-Disease-Classification-4 in folder:: 100%|██████████| 14187/14187 [00:05<00:00, 2580.12it/s]\n"
          ]
        }
      ]
    },
    {
      "cell_type": "code",
      "execution_count": null,
      "metadata": {
        "id": "xN1ZDmp8R5fc"
      },
      "outputs": [],
      "source": [
        "from ultralytics import YOLO\n",
        "\n",
        "model_path = 'yolov8x-cls.pt'  # @param {type:\"string\"}\n",
        "data_path = '/content/Skin-Disease-Classification-4'  # @param {type:\"string\"}\n",
        "\n",
        "epochs = 5  # @param {type:\"integer\"}\n",
        "img_size = 640  # @param {type:\"integer\"}\n",
        "amp = False # @param {type:\"boolean\"}\n",
        "cache = True # @param {type:\"boolean\"}\n",
        "resume = True # @param {type:\"boolean\"}\n",
        "\n",
        "patience = 10 # @param {type:\"integer\"}\n",
        "# Create YOLO model and train\n",
        "model = YOLO(model_path)\n",
        "model.train(data=data_path, epochs=epochs, imgsz=img_size, amp = amp, cache = cache, patience=patience)\n"
      ]
    },
    {
      "cell_type": "code",
      "source": [
        "!kill 8858"
      ],
      "metadata": {
        "id": "QzhgSZ2jzkv7"
      },
      "execution_count": null,
      "outputs": []
    },
    {
      "cell_type": "code",
      "source": [
        "%reload_ext tensorboard\n",
        "%tensorboard --logdir runs/classify/train2"
      ],
      "metadata": {
        "id": "pjhlrMC9zjZL"
      },
      "execution_count": null,
      "outputs": []
    },
    {
      "cell_type": "code",
      "source": [
        "%reload_ext tensorboard"
      ],
      "metadata": {
        "id": "584AKfTSzoHW"
      },
      "execution_count": null,
      "outputs": []
    },
    {
      "cell_type": "code",
      "execution_count": null,
      "metadata": {
        "id": "iHOsxuCjUA4C",
        "colab": {
          "base_uri": "https://localhost:8080/",
          "height": 34
        },
        "outputId": "bbdf706d-44f4-48bb-d774-6b21c2dde119"
      },
      "outputs": [
        {
          "output_type": "display_data",
          "data": {
            "text/plain": [
              "<IPython.core.display.Javascript object>"
            ],
            "application/javascript": [
              "\n",
              "    async function download(id, filename, size) {\n",
              "      if (!google.colab.kernel.accessAllowed) {\n",
              "        return;\n",
              "      }\n",
              "      const div = document.createElement('div');\n",
              "      const label = document.createElement('label');\n",
              "      label.textContent = `Downloading \"${filename}\": `;\n",
              "      div.appendChild(label);\n",
              "      const progress = document.createElement('progress');\n",
              "      progress.max = size;\n",
              "      div.appendChild(progress);\n",
              "      document.body.appendChild(div);\n",
              "\n",
              "      const buffers = [];\n",
              "      let downloaded = 0;\n",
              "\n",
              "      const channel = await google.colab.kernel.comms.open(id);\n",
              "      // Send a message to notify the kernel that we're ready.\n",
              "      channel.send({})\n",
              "\n",
              "      for await (const message of channel.messages) {\n",
              "        // Send a message to notify the kernel that we're ready.\n",
              "        channel.send({})\n",
              "        if (message.buffers) {\n",
              "          for (const buffer of message.buffers) {\n",
              "            buffers.push(buffer);\n",
              "            downloaded += buffer.byteLength;\n",
              "            progress.value = downloaded;\n",
              "          }\n",
              "        }\n",
              "      }\n",
              "      const blob = new Blob(buffers, {type: 'application/binary'});\n",
              "      const a = document.createElement('a');\n",
              "      a.href = window.URL.createObjectURL(blob);\n",
              "      a.download = filename;\n",
              "      div.appendChild(a);\n",
              "      a.click();\n",
              "      div.remove();\n",
              "    }\n",
              "  "
            ]
          },
          "metadata": {}
        },
        {
          "output_type": "display_data",
          "data": {
            "text/plain": [
              "<IPython.core.display.Javascript object>"
            ],
            "application/javascript": [
              "download(\"download_53e6e3aa-0d06-4f24-b1ee-ceccd842dc04\", \"best.pt\", 112494779)"
            ]
          },
          "metadata": {}
        }
      ],
      "source": [
        "path = \"/content/runs/classify/train2/weights/best.pt\"\n",
        "from google.colab import files\n",
        "files.download(path)"
      ]
    },
    {
      "cell_type": "code",
      "source": [
        "from ultralytics import YOLO\n",
        "import torch\n",
        "model = YOLO('best.pt')"
      ],
      "metadata": {
        "id": "JJGqV9kQs2Dy"
      },
      "execution_count": 2,
      "outputs": []
    },
    {
      "cell_type": "code",
      "source": [
        "results = model(\"/content/Skin-Disease-Classification-4/test/Acne/07Acne081101_jpg.rf.ccddcff5717ca510a40c7da7ad765067.jpg\", save = True)"
      ],
      "metadata": {
        "colab": {
          "base_uri": "https://localhost:8080/"
        },
        "id": "d3CH9xUzNmHU",
        "outputId": "b29cc2eb-4669-4491-aa4e-e93e44584f59"
      },
      "execution_count": 5,
      "outputs": [
        {
          "output_type": "stream",
          "name": "stderr",
          "text": [
            "\n",
            "image 1/1 /content/Skin-Disease-Classification-4/test/Acne/07Acne081101_jpg.rf.ccddcff5717ca510a40c7da7ad765067.jpg: 224x224 Acne 0.97, Atopic-Dermatitis 0.01, Basal-cell-carcinoma 0.01, Unlabeled 0.00, Fissured-Skin 0.00, 21.8ms\n",
            "Speed: 0.4ms preprocess, 21.8ms inference, 0.1ms postprocess per image at shape (1, 3, 224, 224)\n",
            "Results saved to \u001b[1mruns/classify/predict\u001b[0m\n"
          ]
        }
      ]
    },
    {
      "cell_type": "code",
      "source": [
        "if isinstance(results, list):\n",
        "    # If the results are a list, then get the first result\n",
        "    results = results[0]\n",
        "classes = {\"Acne\":0, \"Atopic-Dermatits\":1, \"Basal-cell-carcinoma\" : 2 , \"Fissured-Skin\" : 3, \"Melanoma\" : 4, \"Nail Onychopathies\" : 5}\n",
        "\n",
        "\n",
        "max_value, max_index = torch.max(results.probs, dim=0)\n",
        "print(f\" Disease : {list(classes.keys())[int(max_index)]}\\n Confidence : {round(float(max_value), 2)}\")\n",
        ""
      ],
      "metadata": {
        "colab": {
          "base_uri": "https://localhost:8080/"
        },
        "id": "lVOxKvflQPIR",
        "outputId": "9377c356-7dd1-4e23-95c6-7f5c230b1372"
      },
      "execution_count": 6,
      "outputs": [
        {
          "output_type": "stream",
          "name": "stdout",
          "text": [
            " Disease : Acne\n",
            " Confidence : 0.97\n"
          ]
        }
      ]
    },
    {
      "cell_type": "markdown",
      "source": [
        "# Validation Accuracy"
      ],
      "metadata": {
        "id": "5n-OJj-sv4Ll"
      }
    },
    {
      "cell_type": "code",
      "source": [
        "metrics = model.val()  # no arguments needed, dataset and settings remembered\n",
        "metrics.top1   # top1 accuracy\n",
        "metrics.top5   # top5 accuracy"
      ],
      "metadata": {
        "colab": {
          "base_uri": "https://localhost:8080/"
        },
        "id": "2HGugJVrYnjb",
        "outputId": "3bd37600-4cd5-4e91-b2b2-2b43dec5482d"
      },
      "execution_count": 3,
      "outputs": [
        {
          "output_type": "stream",
          "name": "stderr",
          "text": [
            "Ultralytics YOLOv8.0.58 🚀 Python-3.10.12 torch-2.1.0+cu121 CUDA:0 (Tesla T4, 15102MiB)\n",
            "YOLOv8x-cls summary (fused): 133 layers, 56132167 parameters, 0 gradients, 153.8 GFLOPs\n",
            "               classes   top1_acc   top5_acc: 100%|██████████| 16/16 [00:01<00:00, 10.95it/s]\n",
            "                   all      0.735      0.988\n",
            "Speed: 0.1ms preprocess, 5.0ms inference, 0.0ms loss, 0.0ms postprocess per image\n",
            "Results saved to \u001b[1mruns/classify/val2\u001b[0m\n"
          ]
        },
        {
          "output_type": "execute_result",
          "data": {
            "text/plain": [
              "0.9877550601959229"
            ]
          },
          "metadata": {},
          "execution_count": 3
        }
      ]
    },
    {
      "cell_type": "code",
      "source": [
        "import os\n",
        "\n",
        "Actual = list()\n",
        "Predicted = list()\n",
        "\n",
        "folder_path = \"/content/Skin-Disease-Classification-4/test\"\n",
        "exclude_folder = \"Unlabeled\"\n",
        "\n",
        "folders = [f for f in os.listdir(folder_path) if os.path.isdir(os.path.join(folder_path, f)) and f != exclude_folder]\n",
        "classes = {\"Acne\": 0, \"Atopic-Dermatitis\": 1, \"Basal-cell-carcinoma\": 2, \"Fissured-Skin\": 3, \"Melanoma\": 4, \"Nail Onychopathies\": 5}\n",
        "\n",
        "for folder in folders:\n",
        "    folder_full_path = os.path.join(folder_path, folder)\n",
        "    images = [img for img in os.listdir(folder_full_path) if img.endswith(('.jpg', '.jpeg', '.png', '.gif', '.bmp'))]\n",
        "\n",
        "    print(f\"Images in {folder}:\")\n",
        "    for image in images:\n",
        "        results = model(os.path.join(folder_full_path, image))\n",
        "        if isinstance(results, list):\n",
        "            results = results[0]\n",
        "\n",
        "        max_value, max_index = torch.max(results.probs, dim=0)\n",
        "        val = list(classes.keys())[int(max_index)]\n",
        "        Predicted.append(classes.get(val))\n",
        "        Actual.append(classes.get(folder))\n",
        "        max_value, max_index = torch.max(results.probs, dim=0)\n",
        "        #print(f\"Disease: {list(classes.keys())[int(max_index)]} === Actual: {folder}\")\n",
        "\n",
        "    #print()\n"
      ],
      "metadata": {
        "colab": {
          "base_uri": "https://localhost:8080/"
        },
        "id": "r6iqrlM2hZ1T",
        "outputId": "85c3c5ba-124f-426e-8e3d-21d94f1ab7ed"
      },
      "execution_count": 5,
      "outputs": [
        {
          "output_type": "stream",
          "name": "stderr",
          "text": [
            "\n",
            "image 1/1 /content/Skin-Disease-Classification-4/test/Atopic-Dermatitis/05atopic031306_jpg.rf.48787719b5cc7ecd9f0c007004da40d3.jpg: 224x224 Acne 0.31, Basal-cell-carcinoma 0.29, Melanoma 0.19, Atopic-Dermatitis 0.12, Fissured-Skin 0.09, 43.8ms\n",
            "Speed: 0.4ms preprocess, 43.8ms inference, 0.1ms postprocess per image at shape (1, 3, 224, 224)\n",
            "\n",
            "image 1/1 /content/Skin-Disease-Classification-4/test/Atopic-Dermatitis/rhus-dermatitis-22_jpg.rf.b77ff87ddc6d5887ecd8f9006107a6c0.jpg: 224x224 Atopic-Dermatitis 0.33, Basal-cell-carcinoma 0.25, Acne 0.21, Fissured-Skin 0.13, Melanoma 0.05, 41.7ms\n",
            "Speed: 0.3ms preprocess, 41.7ms inference, 0.1ms postprocess per image at shape (1, 3, 224, 224)\n",
            "\n"
          ]
        },
        {
          "output_type": "stream",
          "name": "stdout",
          "text": [
            "Images in Atopic-Dermatitis:\n"
          ]
        },
        {
          "output_type": "stream",
          "name": "stderr",
          "text": [
            "image 1/1 /content/Skin-Disease-Classification-4/test/Atopic-Dermatitis/seborrheic-dermatitis-11_jpg.rf.86bcc169df1e2d733f22e06159d37b8a.jpg: 224x224 Acne 0.49, Atopic-Dermatitis 0.26, Fissured-Skin 0.11, Basal-cell-carcinoma 0.09, Melanoma 0.04, 24.1ms\n",
            "Speed: 0.3ms preprocess, 24.1ms inference, 0.1ms postprocess per image at shape (1, 3, 224, 224)\n",
            "\n",
            "image 1/1 /content/Skin-Disease-Classification-4/test/Atopic-Dermatitis/05AtopicFossa2q_jpg.rf.e8d3fab5453f5f01e0740d31b8bf370b.jpg: 224x224 Atopic-Dermatitis 0.71, Fissured-Skin 0.28, Unlabeled 0.01, Melanoma 0.00, Nail Onychopathies 0.00, 17.7ms\n",
            "Speed: 0.3ms preprocess, 17.7ms inference, 0.1ms postprocess per image at shape (1, 3, 224, 224)\n",
            "\n",
            "image 1/1 /content/Skin-Disease-Classification-4/test/Atopic-Dermatitis/05AtopicFace2_jpg.rf.c5e0ee34c0757b44aff439228546078c.jpg: 224x224 Acne 0.78, Atopic-Dermatitis 0.19, Fissured-Skin 0.02, Unlabeled 0.01, Basal-cell-carcinoma 0.00, 24.9ms\n",
            "Speed: 0.3ms preprocess, 24.9ms inference, 0.1ms postprocess per image at shape (1, 3, 224, 224)\n",
            "\n",
            "image 1/1 /content/Skin-Disease-Classification-4/test/Atopic-Dermatitis/05wrist061205_jpg.rf.8380e8a263e448e0468c05011caae734.jpg: 224x224 Fissured-Skin 0.50, Atopic-Dermatitis 0.48, Unlabeled 0.01, Melanoma 0.00, Acne 0.00, 14.1ms\n",
            "Speed: 0.3ms preprocess, 14.1ms inference, 0.1ms postprocess per image at shape (1, 3, 224, 224)\n",
            "\n",
            "image 1/1 /content/Skin-Disease-Classification-4/test/Atopic-Dermatitis/05Atopic02161_jpg.rf.8dfa82f182f8a4fe78432dbd1a831d43.jpg: 224x224 Atopic-Dermatitis 0.51, Fissured-Skin 0.45, Unlabeled 0.02, Acne 0.01, Melanoma 0.01, 14.1ms\n",
            "Speed: 0.3ms preprocess, 14.1ms inference, 0.1ms postprocess per image at shape (1, 3, 224, 224)\n",
            "\n",
            "image 1/1 /content/Skin-Disease-Classification-4/test/Atopic-Dermatitis/rhus-dermatitis-77_jpg.rf.beaf4fa29769071fee4c3d50da5c5969.jpg: 224x224 Atopic-Dermatitis 0.49, Fissured-Skin 0.48, Nail Onychopathies 0.02, Unlabeled 0.01, Melanoma 0.00, 14.1ms\n",
            "Speed: 0.3ms preprocess, 14.1ms inference, 0.1ms postprocess per image at shape (1, 3, 224, 224)\n",
            "\n",
            "image 1/1 /content/Skin-Disease-Classification-4/test/Atopic-Dermatitis/seborrheic-dermatitis-115_jpg.rf.57eb9b35315323290f62bc2f60675714.jpg: 224x224 Melanoma 0.51, Basal-cell-carcinoma 0.32, Atopic-Dermatitis 0.08, Acne 0.06, Fissured-Skin 0.02, 14.1ms\n",
            "Speed: 0.3ms preprocess, 14.1ms inference, 0.2ms postprocess per image at shape (1, 3, 224, 224)\n",
            "\n",
            "image 1/1 /content/Skin-Disease-Classification-4/test/Atopic-Dermatitis/contact-dermatitis-leg-ulcers-2_jpg.rf.5ce36b79949bd55bf75de2664e3e78d0.jpg: 224x224 Basal-cell-carcinoma 0.54, Atopic-Dermatitis 0.21, Melanoma 0.10, Acne 0.06, Fissured-Skin 0.04, 14.0ms\n",
            "Speed: 0.3ms preprocess, 14.0ms inference, 0.1ms postprocess per image at shape (1, 3, 224, 224)\n",
            "\n",
            "image 1/1 /content/Skin-Disease-Classification-4/test/Atopic-Dermatitis/05Atopic12060427_jpg.rf.58d00c4e04a0837b8967accdc44507d1.jpg: 224x224 Atopic-Dermatitis 0.72, Fissured-Skin 0.19, Nail Onychopathies 0.04, Acne 0.02, Unlabeled 0.02, 14.0ms\n",
            "Speed: 0.3ms preprocess, 14.0ms inference, 0.1ms postprocess per image at shape (1, 3, 224, 224)\n",
            "\n",
            "image 1/1 /content/Skin-Disease-Classification-4/test/Atopic-Dermatitis/05Atopic121503_jpg.rf.2847cc893bd91c4dddd5233ef886fbe3.jpg: 224x224 Acne 0.42, Atopic-Dermatitis 0.32, Fissured-Skin 0.20, Unlabeled 0.03, Melanoma 0.01, 14.0ms\n",
            "Speed: 0.3ms preprocess, 14.0ms inference, 0.1ms postprocess per image at shape (1, 3, 224, 224)\n",
            "\n",
            "image 1/1 /content/Skin-Disease-Classification-4/test/Atopic-Dermatitis/rhus-dermatitis-2_jpg.rf.042256df7db3965486c685ad08765598.jpg: 224x224 Atopic-Dermatitis 0.31, Acne 0.30, Fissured-Skin 0.28, Nail Onychopathies 0.06, Unlabeled 0.02, 14.1ms\n",
            "Speed: 0.3ms preprocess, 14.1ms inference, 0.1ms postprocess per image at shape (1, 3, 224, 224)\n",
            "\n",
            "image 1/1 /content/Skin-Disease-Classification-4/test/Atopic-Dermatitis/rhus-dermatitis-61_jpg.rf.df2e278bdfda9c48387664c0a5c83f3a.jpg: 224x224 Fissured-Skin 0.43, Atopic-Dermatitis 0.41, Acne 0.11, Unlabeled 0.05, Melanoma 0.00, 14.0ms\n",
            "Speed: 0.3ms preprocess, 14.0ms inference, 0.1ms postprocess per image at shape (1, 3, 224, 224)\n",
            "\n",
            "image 1/1 /content/Skin-Disease-Classification-4/test/Atopic-Dermatitis/seborrheic-dermatitis-112_jpg.rf.ccfc825c5db5c44084b94245e2cbbab2.jpg: 224x224 Melanoma 0.39, Basal-cell-carcinoma 0.19, Acne 0.16, Atopic-Dermatitis 0.14, Fissured-Skin 0.10, 14.1ms\n",
            "Speed: 0.2ms preprocess, 14.1ms inference, 0.1ms postprocess per image at shape (1, 3, 224, 224)\n",
            "\n",
            "image 1/1 /content/Skin-Disease-Classification-4/test/Atopic-Dermatitis/rhus-dermatitis-26_jpg.rf.beab9119f02bd820881bc2ddff094867.jpg: 224x224 Atopic-Dermatitis 0.47, Acne 0.25, Melanoma 0.14, Fissured-Skin 0.07, Basal-cell-carcinoma 0.02, 14.2ms\n",
            "Speed: 0.5ms preprocess, 14.2ms inference, 0.8ms postprocess per image at shape (1, 3, 224, 224)\n",
            "\n",
            "image 1/1 /content/Skin-Disease-Classification-4/test/Atopic-Dermatitis/26-0002_jpg.rf.4f7873baf34375c69204d24503c839d5.jpg: 224x224 Acne 0.74, Atopic-Dermatitis 0.16, Melanoma 0.04, Basal-cell-carcinoma 0.03, Fissured-Skin 0.01, 13.8ms\n",
            "Speed: 0.3ms preprocess, 13.8ms inference, 0.1ms postprocess per image at shape (1, 3, 224, 224)\n",
            "\n",
            "image 1/1 /content/Skin-Disease-Classification-4/test/Atopic-Dermatitis/seborrheic-dermatitis-129_jpg.rf.bf4c446ed34a8bc0dae1c1ae3a493a0f.jpg: 224x224 Basal-cell-carcinoma 0.36, Acne 0.31, Atopic-Dermatitis 0.20, Fissured-Skin 0.08, Melanoma 0.04, 13.5ms\n",
            "Speed: 1.0ms preprocess, 13.5ms inference, 0.1ms postprocess per image at shape (1, 3, 224, 224)\n",
            "\n",
            "image 1/1 /content/Skin-Disease-Classification-4/test/Atopic-Dermatitis/05atopic0110053_jpg.rf.4a95c3cc41166187a117985462ba1bd7.jpg: 224x224 Acne 0.65, Atopic-Dermatitis 0.23, Basal-cell-carcinoma 0.08, Fissured-Skin 0.02, Melanoma 0.01, 16.0ms\n",
            "Speed: 0.3ms preprocess, 16.0ms inference, 0.1ms postprocess per image at shape (1, 3, 224, 224)\n",
            "\n",
            "image 1/1 /content/Skin-Disease-Classification-4/test/Atopic-Dermatitis/rhus-dermatitis-66_jpg.rf.3bb6fcd424b80676368a121f1b2b4b87.jpg: 224x224 Fissured-Skin 0.53, Atopic-Dermatitis 0.40, Acne 0.03, Unlabeled 0.03, Melanoma 0.00, 13.5ms\n",
            "Speed: 0.3ms preprocess, 13.5ms inference, 0.1ms postprocess per image at shape (1, 3, 224, 224)\n",
            "\n",
            "image 1/1 /content/Skin-Disease-Classification-4/test/Atopic-Dermatitis/allergic-contact-dermatitis-101_jpg.rf.aeb84bd320e3e14ef69545ac7ab76c27.jpg: 224x224 Basal-cell-carcinoma 0.78, Atopic-Dermatitis 0.12, Acne 0.05, Fissured-Skin 0.03, Melanoma 0.01, 13.5ms\n",
            "Speed: 0.3ms preprocess, 13.5ms inference, 0.1ms postprocess per image at shape (1, 3, 224, 224)\n",
            "\n",
            "image 1/1 /content/Skin-Disease-Classification-4/test/Atopic-Dermatitis/allergic-contact-dermatitis-183_jpg.rf.9e59fade22259da525c7bac60e3bda5d.jpg: 224x224 Acne 0.55, Atopic-Dermatitis 0.26, Fissured-Skin 0.12, Basal-cell-carcinoma 0.04, Unlabeled 0.02, 13.5ms\n",
            "Speed: 0.3ms preprocess, 13.5ms inference, 0.1ms postprocess per image at shape (1, 3, 224, 224)\n",
            "\n",
            "image 1/1 /content/Skin-Disease-Classification-4/test/Atopic-Dermatitis/rhus-dermatitis-75_jpg.rf.51454381a0358dd380cc0e99d5e4a3a6.jpg: 224x224 Fissured-Skin 0.47, Atopic-Dermatitis 0.43, Nail Onychopathies 0.05, Unlabeled 0.02, Acne 0.02, 13.5ms\n",
            "Speed: 0.3ms preprocess, 13.5ms inference, 0.1ms postprocess per image at shape (1, 3, 224, 224)\n",
            "\n",
            "image 1/1 /content/Skin-Disease-Classification-4/test/Atopic-Dermatitis/05atopicFlid080105_jpg.rf.103077fc1dd7222e95e7bdab2d318cca.jpg: 224x224 Acne 0.36, Atopic-Dermatitis 0.34, Melanoma 0.18, Fissured-Skin 0.05, Basal-cell-carcinoma 0.05, 12.0ms\n",
            "Speed: 0.3ms preprocess, 12.0ms inference, 0.1ms postprocess per image at shape (1, 3, 224, 224)\n",
            "\n",
            "image 1/1 /content/Skin-Disease-Classification-4/test/Atopic-Dermatitis/05AtopicHand1_jpg.rf.f8fa9833dbcce3c0a1edfb229616f4d7.jpg: 224x224 Fissured-Skin 0.49, Atopic-Dermatitis 0.44, Unlabeled 0.02, Acne 0.02, Basal-cell-carcinoma 0.01, 12.0ms\n",
            "Speed: 0.3ms preprocess, 12.0ms inference, 0.2ms postprocess per image at shape (1, 3, 224, 224)\n",
            "\n",
            "image 1/1 /content/Skin-Disease-Classification-4/test/Atopic-Dermatitis/5T-0005_jpg.rf.9d91cc9f16d494725469a661105a96fb.jpg: 224x224 Acne 0.57, Atopic-Dermatitis 0.30, Fissured-Skin 0.08, Unlabeled 0.03, Melanoma 0.01, 11.9ms\n",
            "Speed: 0.3ms preprocess, 11.9ms inference, 0.1ms postprocess per image at shape (1, 3, 224, 224)\n",
            "\n",
            "image 1/1 /content/Skin-Disease-Classification-4/test/Atopic-Dermatitis/allergic-contact-dermatitis-142_jpg.rf.2cd0de2d85fb6f25cc73f78ca7fbb270.jpg: 224x224 Atopic-Dermatitis 0.31, Fissured-Skin 0.26, Melanoma 0.23, Acne 0.12, Basal-cell-carcinoma 0.04, 11.9ms\n",
            "Speed: 0.3ms preprocess, 11.9ms inference, 0.1ms postprocess per image at shape (1, 3, 224, 224)\n",
            "\n",
            "image 1/1 /content/Skin-Disease-Classification-4/test/Atopic-Dermatitis/allergic-contact-dermatitis-156_jpg.rf.f2010de959b7802687cb1acce8932d62.jpg: 224x224 Acne 0.41, Atopic-Dermatitis 0.30, Fissured-Skin 0.10, Basal-cell-carcinoma 0.08, Melanoma 0.08, 11.9ms\n",
            "Speed: 0.3ms preprocess, 11.9ms inference, 0.1ms postprocess per image at shape (1, 3, 224, 224)\n",
            "\n",
            "image 1/1 /content/Skin-Disease-Classification-4/test/Atopic-Dermatitis/26-0004_jpg.rf.94d99575c1bd4bfd976f41c8da6df6b8.jpg: 224x224 Acne 0.49, Atopic-Dermatitis 0.28, Fissured-Skin 0.10, Basal-cell-carcinoma 0.04, Melanoma 0.04, 11.9ms\n",
            "Speed: 0.3ms preprocess, 11.9ms inference, 0.1ms postprocess per image at shape (1, 3, 224, 224)\n",
            "\n",
            "image 1/1 /content/Skin-Disease-Classification-4/test/Atopic-Dermatitis/5T-0021_jpg.rf.441296f07d309a769b92ae5c37620dc1.jpg: 224x224 Atopic-Dermatitis 0.54, Fissured-Skin 0.39, Unlabeled 0.02, Acne 0.02, Basal-cell-carcinoma 0.02, 12.0ms\n",
            "Speed: 0.3ms preprocess, 12.0ms inference, 0.0ms postprocess per image at shape (1, 3, 224, 224)\n",
            "\n",
            "image 1/1 /content/Skin-Disease-Classification-4/test/Atopic-Dermatitis/allergic-contact-dermatitis-91_jpg.rf.b7eb68b8b19cda93c0afe1545830b971.jpg: 224x224 Atopic-Dermatitis 0.53, Fissured-Skin 0.44, Unlabeled 0.01, Nail Onychopathies 0.01, Melanoma 0.01, 11.6ms\n",
            "Speed: 0.3ms preprocess, 11.6ms inference, 0.1ms postprocess per image at shape (1, 3, 224, 224)\n",
            "\n",
            "image 1/1 /content/Skin-Disease-Classification-4/test/Atopic-Dermatitis/05AtopicPapules_jpg.rf.aa08b9a2619485ad17dbf323087d19df.jpg: 224x224 Basal-cell-carcinoma 0.34, Melanoma 0.24, Fissured-Skin 0.15, Atopic-Dermatitis 0.14, Acne 0.12, 12.1ms\n",
            "Speed: 0.3ms preprocess, 12.1ms inference, 0.1ms postprocess per image at shape (1, 3, 224, 224)\n",
            "\n",
            "image 1/1 /content/Skin-Disease-Classification-4/test/Atopic-Dermatitis/05atopicChild0828062_jpg.rf.18ad3d928224f2adde896974b8766c3e.jpg: 224x224 Fissured-Skin 0.47, Atopic-Dermatitis 0.39, Acne 0.07, Unlabeled 0.03, Melanoma 0.02, 11.5ms\n",
            "Speed: 0.3ms preprocess, 11.5ms inference, 0.1ms postprocess per image at shape (1, 3, 224, 224)\n",
            "\n",
            "image 1/1 /content/Skin-Disease-Classification-4/test/Atopic-Dermatitis/allergic-contact-dermatitis-182_jpg.rf.fa7687b17f95f75f8ff6cc74c88317b9.jpg: 224x224 Basal-cell-carcinoma 0.31, Atopic-Dermatitis 0.27, Nail Onychopathies 0.18, Acne 0.16, Fissured-Skin 0.04, 11.5ms\n",
            "Speed: 0.3ms preprocess, 11.5ms inference, 0.1ms postprocess per image at shape (1, 3, 224, 224)\n",
            "\n",
            "image 1/1 /content/Skin-Disease-Classification-4/test/Acne/acne-cystic-147_jpg.rf.ccbbe62576b1f49eb14d1a6b9ed71044.jpg: 224x224 Fissured-Skin 0.46, Atopic-Dermatitis 0.38, Acne 0.08, Melanoma 0.02, Unlabeled 0.02, 11.5ms\n",
            "Speed: 0.3ms preprocess, 11.5ms inference, 0.1ms postprocess per image at shape (1, 3, 224, 224)\n",
            "\n",
            "image 1/1 /content/Skin-Disease-Classification-4/test/Acne/8_11_jpg.rf.3ee596de8457e2ce8c501fd6f6314259.jpg: 224x224 Acne 0.75, Atopic-Dermatitis 0.13, Melanoma 0.06, Basal-cell-carcinoma 0.03, Fissured-Skin 0.03, 12.6ms\n",
            "Speed: 0.3ms preprocess, 12.6ms inference, 0.1ms postprocess per image at shape (1, 3, 224, 224)\n",
            "\n",
            "image 1/1 /content/Skin-Disease-Classification-4/test/Acne/perioral-dermatitis-92_jpg.rf.389f062ef385349ebfdba994ada94c99.jpg: 224x224 Acne 0.86, Atopic-Dermatitis 0.10, Basal-cell-carcinoma 0.04, Unlabeled 0.00, Fissured-Skin 0.00, 11.6ms\n",
            "Speed: 0.3ms preprocess, 11.6ms inference, 0.1ms postprocess per image at shape (1, 3, 224, 224)\n",
            "\n",
            "image 1/1 /content/Skin-Disease-Classification-4/test/Acne/acne-open-comedo-28_jpg.rf.99d6d01d629970b5bdd1f643b91c9df0.jpg: 224x224 Acne 0.93, Atopic-Dermatitis 0.04, Melanoma 0.01, Fissured-Skin 0.01, Basal-cell-carcinoma 0.00, 11.6ms\n",
            "Speed: 0.3ms preprocess, 11.6ms inference, 0.1ms postprocess per image at shape (1, 3, 224, 224)\n",
            "\n",
            "image 1/1 /content/Skin-Disease-Classification-4/test/Acne/rosacea-63_jpg.rf.098ecf7add515fbe0f30f71b23f5f7f0.jpg: 224x224 Acne 0.96, Atopic-Dermatitis 0.03, Unlabeled 0.00, Nail Onychopathies 0.00, Basal-cell-carcinoma 0.00, 10.9ms\n",
            "Speed: 0.3ms preprocess, 10.9ms inference, 0.1ms postprocess per image at shape (1, 3, 224, 224)\n",
            "\n",
            "image 1/1 /content/Skin-Disease-Classification-4/test/Acne/acne-face-52__ProtectWyJQcm90ZWN0Il0_FocusFillWzI5NCwyMjIsIngiLDFd_jpg.rf.3f6ecef3d2f97cef411c58c6f11b7684.jpg: 224x224 Acne 0.45, Atopic-Dermatitis 0.33, Fissured-Skin 0.13, Basal-cell-carcinoma 0.08, Unlabeled 0.01, 13.1ms\n",
            "Speed: 0.3ms preprocess, 13.1ms inference, 0.1ms postprocess per image at shape (1, 3, 224, 224)\n",
            "\n",
            "image 1/1 /content/Skin-Disease-Classification-4/test/Acne/perioral-dermatitis-91_jpg.rf.7ef89c612c38d9b66890a6fd90366d02.jpg: 224x224 Acne 0.51, Atopic-Dermatitis 0.22, Basal-cell-carcinoma 0.20, Fissured-Skin 0.05, Melanoma 0.02, 10.9ms\n",
            "Speed: 0.4ms preprocess, 10.9ms inference, 0.1ms postprocess per image at shape (1, 3, 224, 224)\n",
            "\n"
          ]
        },
        {
          "output_type": "stream",
          "name": "stdout",
          "text": [
            "Images in Acne:\n"
          ]
        },
        {
          "output_type": "stream",
          "name": "stderr",
          "text": [
            "image 1/1 /content/Skin-Disease-Classification-4/test/Acne/4453-13248-20010-22040tn_jpg.rf.9f534dde5a8a4a1e2eff90f64e3acf40.jpg: 224x224 Melanoma 0.32, Basal-cell-carcinoma 0.32, Acne 0.27, Atopic-Dermatitis 0.06, Fissured-Skin 0.03, 11.2ms\n",
            "Speed: 0.3ms preprocess, 11.2ms inference, 0.1ms postprocess per image at shape (1, 3, 224, 224)\n",
            "\n",
            "image 1/1 /content/Skin-Disease-Classification-4/test/Acne/acne-cystic-134_jpg.rf.cc4e732195c4a8e773234f703dc09af7.jpg: 224x224 Acne 0.98, Atopic-Dermatitis 0.01, Fissured-Skin 0.00, Unlabeled 0.00, Basal-cell-carcinoma 0.00, 11.0ms\n",
            "Speed: 0.3ms preprocess, 11.0ms inference, 0.0ms postprocess per image at shape (1, 3, 224, 224)\n",
            "\n",
            "image 1/1 /content/Skin-Disease-Classification-4/test/Acne/acne-cystic-109_jpg.rf.1ac4e0124cf6c6c883f5b58c4624a940.jpg: 224x224 Atopic-Dermatitis 0.46, Fissured-Skin 0.35, Melanoma 0.08, Acne 0.06, Nail Onychopathies 0.02, 10.9ms\n",
            "Speed: 0.3ms preprocess, 10.9ms inference, 0.1ms postprocess per image at shape (1, 3, 224, 224)\n",
            "\n",
            "image 1/1 /content/Skin-Disease-Classification-4/test/Acne/istockphoto-183876012-612x612_jpg.rf.07a7cc7befbc2718562ca429da95d1e9.jpg: 224x224 Acne 0.63, Atopic-Dermatitis 0.19, Melanoma 0.11, Fissured-Skin 0.03, Basal-cell-carcinoma 0.02, 11.0ms\n",
            "Speed: 0.3ms preprocess, 11.0ms inference, 0.2ms postprocess per image at shape (1, 3, 224, 224)\n",
            "\n",
            "image 1/1 /content/Skin-Disease-Classification-4/test/Acne/acne-open-comedo-21_jpg.rf.a6acb52281b98ac2aba4696e5a6e7738.jpg: 224x224 Acne 0.45, Atopic-Dermatitis 0.20, Melanoma 0.18, Basal-cell-carcinoma 0.08, Fissured-Skin 0.08, 10.8ms\n",
            "Speed: 0.3ms preprocess, 10.8ms inference, 0.1ms postprocess per image at shape (1, 3, 224, 224)\n",
            "\n",
            "image 1/1 /content/Skin-Disease-Classification-4/test/Acne/acne-face-1-18__ProtectWyJQcm90ZWN0Il0_FocusFillWzI5NCwyMjIsIngiLDFd_jpg.rf.fe38d9cadaf3bfd88a2ffa39dc1d23bf.jpg: 224x224 Acne 0.91, Atopic-Dermatitis 0.05, Fissured-Skin 0.01, Basal-cell-carcinoma 0.01, Melanoma 0.01, 11.2ms\n",
            "Speed: 0.3ms preprocess, 11.2ms inference, 0.2ms postprocess per image at shape (1, 3, 224, 224)\n",
            "\n",
            "image 1/1 /content/Skin-Disease-Classification-4/test/Acne/perioral-dermatitis-33_jpg.rf.d3be0aea171302c3085483d98dfbe698.jpg: 224x224 Acne 0.62, Atopic-Dermatitis 0.14, Basal-cell-carcinoma 0.12, Fissured-Skin 0.06, Melanoma 0.05, 10.8ms\n",
            "Speed: 0.3ms preprocess, 10.8ms inference, 0.2ms postprocess per image at shape (1, 3, 224, 224)\n",
            "\n",
            "image 1/1 /content/Skin-Disease-Classification-4/test/Acne/colloid-milia-5_jpg.rf.917b4f0cf1da92fd7a351fde7ff8fd46.jpg: 224x224 Fissured-Skin 0.54, Atopic-Dermatitis 0.35, Acne 0.08, Unlabeled 0.02, Melanoma 0.00, 10.8ms\n",
            "Speed: 0.3ms preprocess, 10.8ms inference, 0.1ms postprocess per image at shape (1, 3, 224, 224)\n",
            "\n",
            "image 1/1 /content/Skin-Disease-Classification-4/test/Acne/acne-open-comedo-2_jpg.rf.fa6437df462ccf6040df5564cd5b0cbb.jpg: 224x224 Acne 0.71, Atopic-Dermatitis 0.22, Basal-cell-carcinoma 0.04, Fissured-Skin 0.02, Melanoma 0.01, 10.8ms\n",
            "Speed: 0.3ms preprocess, 10.8ms inference, 0.1ms postprocess per image at shape (1, 3, 224, 224)\n",
            "\n",
            "image 1/1 /content/Skin-Disease-Classification-4/test/Acne/rosacea-2_jpg.rf.3fc4ffbf47235e3a1f8fe1710fc6757d.jpg: 224x224 Acne 0.69, Atopic-Dermatitis 0.15, Fissured-Skin 0.07, Melanoma 0.05, Basal-cell-carcinoma 0.03, 10.8ms\n",
            "Speed: 0.3ms preprocess, 10.8ms inference, 0.1ms postprocess per image at shape (1, 3, 224, 224)\n",
            "\n",
            "image 1/1 /content/Skin-Disease-Classification-4/test/Acne/acne-face-2-12__ProtectWyJQcm90ZWN0Il0_FocusFillWzI5NCwyMjIsIngiLDFd_jpg.rf.23b00d501fba0979d5d59caaed9a787c.jpg: 224x224 Acne 0.57, Atopic-Dermatitis 0.25, Fissured-Skin 0.12, Basal-cell-carcinoma 0.04, Unlabeled 0.02, 10.8ms\n",
            "Speed: 0.3ms preprocess, 10.8ms inference, 0.1ms postprocess per image at shape (1, 3, 224, 224)\n",
            "\n",
            "image 1/1 /content/Skin-Disease-Classification-4/test/Acne/acne-pustular-17_jpg.rf.582c0845f278fe379682bb4503a18658.jpg: 224x224 Acne 0.80, Basal-cell-carcinoma 0.07, Melanoma 0.05, Atopic-Dermatitis 0.05, Fissured-Skin 0.02, 10.8ms\n",
            "Speed: 0.3ms preprocess, 10.8ms inference, 0.1ms postprocess per image at shape (1, 3, 224, 224)\n",
            "\n",
            "image 1/1 /content/Skin-Disease-Classification-4/test/Acne/istockphoto-1205550792-612x612_jpg.rf.f8fe52a0c0279991f6f60bea0f066622.jpg: 224x224 Acne 0.52, Atopic-Dermatitis 0.24, Basal-cell-carcinoma 0.18, Melanoma 0.04, Nail Onychopathies 0.01, 10.8ms\n",
            "Speed: 0.3ms preprocess, 10.8ms inference, 0.1ms postprocess per image at shape (1, 3, 224, 224)\n",
            "\n",
            "image 1/1 /content/Skin-Disease-Classification-4/test/Acne/acne-excoriated-4_jpg.rf.f1332f708c4e84f4f40ba16cbcd219cc.jpg: 224x224 Acne 0.82, Atopic-Dermatitis 0.07, Basal-cell-carcinoma 0.04, Melanoma 0.04, Fissured-Skin 0.02, 10.7ms\n",
            "Speed: 0.3ms preprocess, 10.7ms inference, 0.0ms postprocess per image at shape (1, 3, 224, 224)\n",
            "\n",
            "image 1/1 /content/Skin-Disease-Classification-4/test/Acne/milia-17_jpg.rf.ce1c945c41824554ef8bf724a825b9f1.jpg: 224x224 Atopic-Dermatitis 0.41, Acne 0.24, Fissured-Skin 0.14, Melanoma 0.09, Nail Onychopathies 0.05, 10.8ms\n",
            "Speed: 0.3ms preprocess, 10.8ms inference, 0.1ms postprocess per image at shape (1, 3, 224, 224)\n",
            "\n",
            "image 1/1 /content/Skin-Disease-Classification-4/test/Acne/acne-open-comedo-13_jpg.rf.6ecad2af9575622e4eb3d1bef871295e.jpg: 224x224 Acne 0.75, Fissured-Skin 0.11, Atopic-Dermatitis 0.10, Unlabeled 0.02, Melanoma 0.02, 10.8ms\n",
            "Speed: 1.2ms preprocess, 10.8ms inference, 0.1ms postprocess per image at shape (1, 3, 224, 224)\n",
            "\n",
            "image 1/1 /content/Skin-Disease-Classification-4/test/Acne/07AcnePittedScars_jpg.rf.bad232476e9b9f7eaea724d3d59de24e.jpg: 224x224 Basal-cell-carcinoma 0.73, Acne 0.13, Melanoma 0.07, Atopic-Dermatitis 0.05, Fissured-Skin 0.02, 11.6ms\n",
            "Speed: 0.3ms preprocess, 11.6ms inference, 0.1ms postprocess per image at shape (1, 3, 224, 224)\n",
            "\n",
            "image 1/1 /content/Skin-Disease-Classification-4/test/Acne/acne-closed-comedo-15_jpg.rf.f3d1ba554f1d47f87d9fb9b7a58058ca.jpg: 224x224 Acne 0.62, Basal-cell-carcinoma 0.18, Atopic-Dermatitis 0.11, Melanoma 0.07, Fissured-Skin 0.01, 10.8ms\n",
            "Speed: 0.3ms preprocess, 10.8ms inference, 0.1ms postprocess per image at shape (1, 3, 224, 224)\n",
            "\n",
            "image 1/1 /content/Skin-Disease-Classification-4/test/Acne/acne-face-8__ProtectWyJQcm90ZWN0Il0_FocusFillWzI5NCwyMjIsIngiLDFd_jpg.rf.e80e9367e1c0146cea802b225f2a79a1.jpg: 224x224 Acne 0.92, Atopic-Dermatitis 0.05, Fissured-Skin 0.01, Basal-cell-carcinoma 0.01, Melanoma 0.01, 10.9ms\n",
            "Speed: 0.3ms preprocess, 10.9ms inference, 0.1ms postprocess per image at shape (1, 3, 224, 224)\n",
            "\n",
            "image 1/1 /content/Skin-Disease-Classification-4/test/Acne/acne-face-5-2__ProtectWyJQcm90ZWN0Il0_FocusFillWzI5NCwyMjIsInkiLDEwOF0_jpg.rf.69241b19775f1dc4a0fae7ce20d1ff7d.jpg: 224x224 Acne 0.41, Basal-cell-carcinoma 0.32, Atopic-Dermatitis 0.16, Melanoma 0.06, Fissured-Skin 0.04, 15.0ms\n",
            "Speed: 0.3ms preprocess, 15.0ms inference, 0.1ms postprocess per image at shape (1, 3, 224, 224)\n",
            "\n",
            "image 1/1 /content/Skin-Disease-Classification-4/test/Acne/acne-face-40__ProtectWyJQcm90ZWN0Il0_FocusFillWzI5NCwyMjIsIngiLDFd_jpg.rf.242526b03229c67f8dc344fb3fa98fcb.jpg: 224x224 Acne 0.94, Atopic-Dermatitis 0.03, Fissured-Skin 0.02, Melanoma 0.01, Basal-cell-carcinoma 0.01, 13.1ms\n",
            "Speed: 0.3ms preprocess, 13.1ms inference, 0.1ms postprocess per image at shape (1, 3, 224, 224)\n",
            "\n",
            "image 1/1 /content/Skin-Disease-Classification-4/test/Acne/acne-face-4-5__ProtectWyJQcm90ZWN0Il0_FocusFillWzI5NCwyMjIsIngiLDFd_jpg.rf.6b5e1472312167208074337ac0c640f6.jpg: 224x224 Acne 0.95, Atopic-Dermatitis 0.03, Fissured-Skin 0.01, Unlabeled 0.01, Basal-cell-carcinoma 0.00, 10.6ms\n",
            "Speed: 0.3ms preprocess, 10.6ms inference, 0.1ms postprocess per image at shape (1, 3, 224, 224)\n",
            "\n",
            "image 1/1 /content/Skin-Disease-Classification-4/test/Acne/165__ProtectWyJQcm90ZWN0Il0_FocusFillWzI5NCwyMjIsIngiLDFd_jpg.rf.c2199266d7e8669660252c5cc9844301.jpg: 224x224 Acne 0.85, Atopic-Dermatitis 0.07, Basal-cell-carcinoma 0.04, Fissured-Skin 0.03, Melanoma 0.01, 11.4ms\n",
            "Speed: 0.4ms preprocess, 11.4ms inference, 0.2ms postprocess per image at shape (1, 3, 224, 224)\n",
            "\n",
            "image 1/1 /content/Skin-Disease-Classification-4/test/Acne/rosacea-81_jpg.rf.176b4db605503612a5c995f22d5722fe.jpg: 224x224 Acne 0.83, Atopic-Dermatitis 0.11, Melanoma 0.03, Basal-cell-carcinoma 0.02, Unlabeled 0.01, 12.0ms\n",
            "Speed: 0.3ms preprocess, 12.0ms inference, 0.1ms postprocess per image at shape (1, 3, 224, 224)\n",
            "\n",
            "image 1/1 /content/Skin-Disease-Classification-4/test/Acne/rosacea-nose-50_jpg.rf.514ffc3ffd72248e51b4237621b01f68.jpg: 224x224 Acne 0.59, Atopic-Dermatitis 0.15, Basal-cell-carcinoma 0.14, Melanoma 0.06, Fissured-Skin 0.05, 10.5ms\n",
            "Speed: 0.3ms preprocess, 10.5ms inference, 0.2ms postprocess per image at shape (1, 3, 224, 224)\n",
            "\n",
            "image 1/1 /content/Skin-Disease-Classification-4/test/Acne/acne-excoriated-26_jpg.rf.5e75cd7ab3592ac68844e5e2292c8096.jpg: 224x224 Acne 0.84, Atopic-Dermatitis 0.08, Fissured-Skin 0.03, Melanoma 0.02, Unlabeled 0.02, 10.8ms\n",
            "Speed: 0.3ms preprocess, 10.8ms inference, 0.2ms postprocess per image at shape (1, 3, 224, 224)\n",
            "\n",
            "image 1/1 /content/Skin-Disease-Classification-4/test/Acne/07RosaceaOK0828062_jpg.rf.7cd4c865cf9c79bb6916ab62050e6239.jpg: 224x224 Acne 0.60, Atopic-Dermatitis 0.13, Basal-cell-carcinoma 0.12, Fissured-Skin 0.08, Melanoma 0.06, 10.5ms\n",
            "Speed: 0.3ms preprocess, 10.5ms inference, 0.1ms postprocess per image at shape (1, 3, 224, 224)\n",
            "\n",
            "image 1/1 /content/Skin-Disease-Classification-4/test/Acne/acne-excoriated-5_jpg.rf.c3b04ad9257fddaa26222f33186b6e13.jpg: 224x224 Acne 0.79, Atopic-Dermatitis 0.10, Fissured-Skin 0.04, Melanoma 0.04, Unlabeled 0.02, 10.5ms\n",
            "Speed: 0.2ms preprocess, 10.5ms inference, 0.1ms postprocess per image at shape (1, 3, 224, 224)\n",
            "\n",
            "image 1/1 /content/Skin-Disease-Classification-4/test/Acne/acne-cystic-17_jpg.rf.a89abe602885fa37891ea15aceb82563.jpg: 224x224 Acne 0.94, Atopic-Dermatitis 0.02, Basal-cell-carcinoma 0.02, Unlabeled 0.01, Fissured-Skin 0.01, 10.6ms\n",
            "Speed: 0.3ms preprocess, 10.6ms inference, 0.0ms postprocess per image at shape (1, 3, 224, 224)\n",
            "\n",
            "image 1/1 /content/Skin-Disease-Classification-4/test/Acne/acne-open-comedo-22_jpg.rf.534aad80d1694acf4eba08349528dfd9.jpg: 224x224 Acne 0.53, Basal-cell-carcinoma 0.24, Atopic-Dermatitis 0.10, Melanoma 0.10, Fissured-Skin 0.02, 10.6ms\n",
            "Speed: 0.3ms preprocess, 10.6ms inference, 0.1ms postprocess per image at shape (1, 3, 224, 224)\n",
            "\n",
            "image 1/1 /content/Skin-Disease-Classification-4/test/Acne/acne-closed-comedo-16_jpg.rf.521b303327d555131bec9daf398d5f1c.jpg: 224x224 Acne 0.39, Atopic-Dermatitis 0.36, Fissured-Skin 0.22, Unlabeled 0.02, Melanoma 0.01, 10.5ms\n",
            "Speed: 0.3ms preprocess, 10.5ms inference, 0.1ms postprocess per image at shape (1, 3, 224, 224)\n",
            "\n",
            "image 1/1 /content/Skin-Disease-Classification-4/test/Acne/acne-face-3-15__ProtectWyJQcm90ZWN0Il0_FocusFillWzI5NCwyMjIsInkiLDg1XQ_jpg.rf.60f15da93dc1e7726d921a224e864cbb.jpg: 224x224 Acne 0.83, Basal-cell-carcinoma 0.06, Melanoma 0.04, Atopic-Dermatitis 0.04, Fissured-Skin 0.02, 10.5ms\n",
            "Speed: 0.3ms preprocess, 10.5ms inference, 0.2ms postprocess per image at shape (1, 3, 224, 224)\n",
            "\n",
            "image 1/1 /content/Skin-Disease-Classification-4/test/Acne/acne-face-19-1__ProtectWyJQcm90ZWN0Il0_FocusFillWzI5NCwyMjIsIngiLDFd_jpg.rf.1e65a8deebcb06a946be5435c780885f.jpg: 224x224 Acne 0.52, Atopic-Dermatitis 0.27, Basal-cell-carcinoma 0.16, Fissured-Skin 0.03, Unlabeled 0.01, 10.5ms\n",
            "Speed: 0.3ms preprocess, 10.5ms inference, 0.0ms postprocess per image at shape (1, 3, 224, 224)\n",
            "\n",
            "image 1/1 /content/Skin-Disease-Classification-4/test/Acne/acne-cystic-12_jpg.rf.9548fb2bcc3e31d0b8c07381b651df83.jpg: 224x224 Acne 0.98, Atopic-Dermatitis 0.01, Basal-cell-carcinoma 0.00, Unlabeled 0.00, Fissured-Skin 0.00, 10.6ms\n",
            "Speed: 0.3ms preprocess, 10.6ms inference, 0.1ms postprocess per image at shape (1, 3, 224, 224)\n",
            "\n",
            "image 1/1 /content/Skin-Disease-Classification-4/test/Acne/perioral-dermatitis-22_jpg.rf.5d884d5b285184859b17cd869a1008fb.jpg: 224x224 Acne 0.53, Atopic-Dermatitis 0.34, Fissured-Skin 0.06, Basal-cell-carcinoma 0.04, Nail Onychopathies 0.02, 10.5ms\n",
            "Speed: 0.3ms preprocess, 10.5ms inference, 0.1ms postprocess per image at shape (1, 3, 224, 224)\n",
            "\n",
            "image 1/1 /content/Skin-Disease-Classification-4/test/Acne/acne-face-15-1__ProtectWyJQcm90ZWN0Il0_FocusFillWzI5NCwyMjIsIngiLDFd_jpg.rf.aecabf9828550e5fc5fc47b4689e0db6.jpg: 224x224 Acne 0.59, Atopic-Dermatitis 0.22, Basal-cell-carcinoma 0.09, Fissured-Skin 0.08, Melanoma 0.01, 10.2ms\n",
            "Speed: 0.3ms preprocess, 10.2ms inference, 0.2ms postprocess per image at shape (1, 3, 224, 224)\n",
            "\n",
            "image 1/1 /content/Skin-Disease-Classification-4/test/Acne/rosacea-113_jpg.rf.a360c0b932546aa71f75acb0819bfb40.jpg: 224x224 Acne 0.96, Atopic-Dermatitis 0.04, Unlabeled 0.01, Fissured-Skin 0.00, Basal-cell-carcinoma 0.00, 10.0ms\n",
            "Speed: 0.3ms preprocess, 10.0ms inference, 0.0ms postprocess per image at shape (1, 3, 224, 224)\n",
            "\n",
            "image 1/1 /content/Skin-Disease-Classification-4/test/Acne/rosacea-24_jpg.rf.c7a323a57d8f7ec7bd541114a0235eb5.jpg: 224x224 Acne 0.91, Atopic-Dermatitis 0.07, Unlabeled 0.01, Fissured-Skin 0.00, Basal-cell-carcinoma 0.00, 10.0ms\n",
            "Speed: 0.3ms preprocess, 10.0ms inference, 0.0ms postprocess per image at shape (1, 3, 224, 224)\n",
            "\n",
            "image 1/1 /content/Skin-Disease-Classification-4/test/Acne/acne-open-comedo-63_jpg.rf.ab2d05c8be4a3d7b632d620e9883d488.jpg: 224x224 Acne 0.90, Atopic-Dermatitis 0.04, Basal-cell-carcinoma 0.03, Melanoma 0.01, Fissured-Skin 0.01, 10.0ms\n",
            "Speed: 0.3ms preprocess, 10.0ms inference, 0.1ms postprocess per image at shape (1, 3, 224, 224)\n",
            "\n",
            "image 1/1 /content/Skin-Disease-Classification-4/test/Acne/acne-cystic-127_jpg.rf.a8bb191c5080e01763902ab8ccf42842.jpg: 224x224 Acne 0.70, Basal-cell-carcinoma 0.13, Melanoma 0.08, Atopic-Dermatitis 0.07, Fissured-Skin 0.02, 10.0ms\n",
            "Speed: 0.3ms preprocess, 10.0ms inference, 0.1ms postprocess per image at shape (1, 3, 224, 224)\n",
            "\n",
            "image 1/1 /content/Skin-Disease-Classification-4/test/Acne/07RosaceaK02162_jpg.rf.a1f55b7be1973f5c3c8a565201627208.jpg: 224x224 Acne 0.89, Atopic-Dermatitis 0.09, Unlabeled 0.01, Fissured-Skin 0.00, Basal-cell-carcinoma 0.00, 10.1ms\n",
            "Speed: 0.3ms preprocess, 10.1ms inference, 0.2ms postprocess per image at shape (1, 3, 224, 224)\n",
            "\n",
            "image 1/1 /content/Skin-Disease-Classification-4/test/Acne/acne-open-comedo-70_jpg.rf.44e8f979a4a0316258b54de9fd57f346.jpg: 224x224 Acne 0.25, Melanoma 0.24, Atopic-Dermatitis 0.20, Basal-cell-carcinoma 0.11, Nail Onychopathies 0.09, 10.0ms\n",
            "Speed: 0.3ms preprocess, 10.0ms inference, 0.2ms postprocess per image at shape (1, 3, 224, 224)\n",
            "\n",
            "image 1/1 /content/Skin-Disease-Classification-4/test/Acne/rosacea-nose-31_jpg.rf.2b5a31bec0e1f7942feb405b9ded0a64.jpg: 224x224 Atopic-Dermatitis 0.36, Acne 0.24, Fissured-Skin 0.22, Basal-cell-carcinoma 0.08, Nail Onychopathies 0.08, 10.1ms\n",
            "Speed: 0.3ms preprocess, 10.1ms inference, 0.1ms postprocess per image at shape (1, 3, 224, 224)\n",
            "\n",
            "image 1/1 /content/Skin-Disease-Classification-4/test/Acne/07Acne081101_jpg.rf.ccddcff5717ca510a40c7da7ad765067.jpg: 224x224 Acne 0.97, Atopic-Dermatitis 0.01, Basal-cell-carcinoma 0.01, Unlabeled 0.00, Fissured-Skin 0.00, 10.0ms\n",
            "Speed: 0.3ms preprocess, 10.0ms inference, 0.2ms postprocess per image at shape (1, 3, 224, 224)\n",
            "\n",
            "image 1/1 /content/Skin-Disease-Classification-4/test/Acne/acne-infantile-2_jpg.rf.d14410dfc961a474dca7a7792fd078f6.jpg: 224x224 Acne 0.56, Atopic-Dermatitis 0.18, Fissured-Skin 0.15, Melanoma 0.05, Basal-cell-carcinoma 0.04, 11.7ms\n",
            "Speed: 0.3ms preprocess, 11.7ms inference, 0.1ms postprocess per image at shape (1, 3, 224, 224)\n",
            "\n",
            "image 1/1 /content/Skin-Disease-Classification-4/test/Acne/acne-cystic-126_jpg.rf.187316a8bb4b0910ff0cb53dfc67bc4c.jpg: 224x224 Acne 0.88, Basal-cell-carcinoma 0.04, Atopic-Dermatitis 0.04, Melanoma 0.03, Fissured-Skin 0.01, 12.6ms\n",
            "Speed: 0.3ms preprocess, 12.6ms inference, 0.1ms postprocess per image at shape (1, 3, 224, 224)\n",
            "\n",
            "image 1/1 /content/Skin-Disease-Classification-4/test/Acne/07rosacea010206OK_jpg.rf.a550c373fa4c7b986dfdbc1b91f99480.jpg: 224x224 Atopic-Dermatitis 0.28, Acne 0.24, Basal-cell-carcinoma 0.19, Fissured-Skin 0.13, Nail Onychopathies 0.09, 10.3ms\n",
            "Speed: 0.3ms preprocess, 10.3ms inference, 0.2ms postprocess per image at shape (1, 3, 224, 224)\n",
            "\n",
            "image 1/1 /content/Skin-Disease-Classification-4/test/Acne/acne-cystic-58_jpg.rf.7998a108de027a8ae2cc099ebc1374ec.jpg: 224x224 Acne 0.81, Basal-cell-carcinoma 0.10, Melanoma 0.04, Atopic-Dermatitis 0.03, Fissured-Skin 0.01, 10.1ms\n",
            "Speed: 0.3ms preprocess, 10.1ms inference, 0.1ms postprocess per image at shape (1, 3, 224, 224)\n",
            "\n",
            "image 1/1 /content/Skin-Disease-Classification-4/test/Acne/acne-cystic-24_jpg.rf.94567db80d7e803f8a599180dec8b177.jpg: 224x224 Acne 0.94, Atopic-Dermatitis 0.02, Melanoma 0.02, Basal-cell-carcinoma 0.01, Fissured-Skin 0.01, 13.1ms\n",
            "Speed: 0.3ms preprocess, 13.1ms inference, 0.2ms postprocess per image at shape (1, 3, 224, 224)\n",
            "\n",
            "image 1/1 /content/Skin-Disease-Classification-4/test/Acne/acne-pustular-8_jpg.rf.5114ee249b455cd21752a1c3ad53cab8.jpg: 224x224 Acne 0.62, Basal-cell-carcinoma 0.18, Atopic-Dermatitis 0.18, Fissured-Skin 0.01, Melanoma 0.00, 10.7ms\n",
            "Speed: 0.3ms preprocess, 10.7ms inference, 0.2ms postprocess per image at shape (1, 3, 224, 224)\n",
            "\n",
            "image 1/1 /content/Skin-Disease-Classification-4/test/Acne/perioral-dermatitis-94_jpg.rf.6ccc98493bc0b9b69774fb2ab7253f59.jpg: 224x224 Basal-cell-carcinoma 0.38, Acne 0.31, Atopic-Dermatitis 0.24, Fissured-Skin 0.03, Melanoma 0.02, 11.8ms\n",
            "Speed: 0.3ms preprocess, 11.8ms inference, 0.1ms postprocess per image at shape (1, 3, 224, 224)\n",
            "\n",
            "image 1/1 /content/Skin-Disease-Classification-4/test/Basal-cell-carcinoma/basal-cell-carcinoma-ear-19_jpg.rf.7fac13f7fc647e768ceaffe52c4c071d.jpg: 224x224 Acne 0.40, Atopic-Dermatitis 0.31, Basal-cell-carcinoma 0.23, Fissured-Skin 0.04, Nail Onychopathies 0.01, 10.0ms\n",
            "Speed: 0.3ms preprocess, 10.0ms inference, 0.1ms postprocess per image at shape (1, 3, 224, 224)\n",
            "\n",
            "image 1/1 /content/Skin-Disease-Classification-4/test/Basal-cell-carcinoma/basal-cell-carcinoma-face-2_jpg.rf.6e5cd378c3f3241783963a135b9fbad5.jpg: 224x224 Basal-cell-carcinoma 0.67, Melanoma 0.14, Atopic-Dermatitis 0.08, Acne 0.07, Fissured-Skin 0.03, 10.0ms\n",
            "Speed: 0.3ms preprocess, 10.0ms inference, 0.2ms postprocess per image at shape (1, 3, 224, 224)\n",
            "\n",
            "image 1/1 /content/Skin-Disease-Classification-4/test/Basal-cell-carcinoma/basal-cell-carcinoma-pigmented-51_jpg.rf.35e84fec318b7e0fa5e308342cfc9a87.jpg: 224x224 Basal-cell-carcinoma 0.99, Atopic-Dermatitis 0.00, Acne 0.00, Melanoma 0.00, Fissured-Skin 0.00, 10.0ms\n",
            "Speed: 0.3ms preprocess, 10.0ms inference, 0.1ms postprocess per image at shape (1, 3, 224, 224)\n",
            "\n",
            "image 1/1 /content/Skin-Disease-Classification-4/test/Basal-cell-carcinoma/basal-cell-carcinoma-lid-36_jpg.rf.f0882569e37e5feefd16121afac5fe48.jpg: 224x224 Basal-cell-carcinoma 0.65, Melanoma 0.12, Atopic-Dermatitis 0.12, Acne 0.07, Fissured-Skin 0.03, 10.0ms\n",
            "Speed: 0.3ms preprocess, 10.0ms inference, 0.1ms postprocess per image at shape (1, 3, 224, 224)\n",
            "\n",
            "image 1/1 /content/Skin-Disease-Classification-4/test/Basal-cell-carcinoma/basal-cell-carcinoma-ear-31_jpg.rf.61342685622c97f78fefdaa205112139.jpg: 224x224 Atopic-Dermatitis 0.26, Basal-cell-carcinoma 0.25, Nail Onychopathies 0.17, Fissured-Skin 0.16, Melanoma 0.09, 11.7ms\n",
            "Speed: 0.3ms preprocess, 11.7ms inference, 0.2ms postprocess per image at shape (1, 3, 224, 224)\n",
            "\n",
            "image 1/1 /content/Skin-Disease-Classification-4/test/Basal-cell-carcinoma/basal-cell-carcinoma-lid-14_jpg.rf.32fb4434e7fa115bb0a28ad543c051f6.jpg: 224x224 Basal-cell-carcinoma 0.70, Melanoma 0.24, Atopic-Dermatitis 0.02, Acne 0.02, Fissured-Skin 0.01, 10.9ms\n",
            "Speed: 0.3ms preprocess, 10.9ms inference, 0.1ms postprocess per image at shape (1, 3, 224, 224)\n",
            "\n"
          ]
        },
        {
          "output_type": "stream",
          "name": "stdout",
          "text": [
            "Images in Basal-cell-carcinoma:\n"
          ]
        },
        {
          "output_type": "stream",
          "name": "stderr",
          "text": [
            "image 1/1 /content/Skin-Disease-Classification-4/test/Basal-cell-carcinoma/basal-cell-carcinoma-scalp-13_jpg.rf.b5592e8fe034ca56cfbeb118a48949cc.jpg: 224x224 Basal-cell-carcinoma 0.43, Melanoma 0.19, Atopic-Dermatitis 0.14, Fissured-Skin 0.13, Acne 0.10, 17.4ms\n",
            "Speed: 0.3ms preprocess, 17.4ms inference, 4.3ms postprocess per image at shape (1, 3, 224, 224)\n",
            "\n",
            "image 1/1 /content/Skin-Disease-Classification-4/test/Basal-cell-carcinoma/basal-cell-carcinoma-pigmented-63_jpg.rf.90fe37d1147725f80fd049b68e191832.jpg: 224x224 Basal-cell-carcinoma 0.92, Melanoma 0.06, Atopic-Dermatitis 0.01, Acne 0.00, Fissured-Skin 0.00, 19.5ms\n",
            "Speed: 0.4ms preprocess, 19.5ms inference, 0.1ms postprocess per image at shape (1, 3, 224, 224)\n",
            "\n",
            "image 1/1 /content/Skin-Disease-Classification-4/test/Basal-cell-carcinoma/basal-cell-nevus-syndrome-10_jpg.rf.9a160e34f3031404dfd7a6462a49c2f0.jpg: 224x224 Nail Onychopathies 0.49, Melanoma 0.32, Atopic-Dermatitis 0.09, Basal-cell-carcinoma 0.04, Fissured-Skin 0.03, 13.4ms\n",
            "Speed: 0.3ms preprocess, 13.4ms inference, 0.1ms postprocess per image at shape (1, 3, 224, 224)\n",
            "\n",
            "image 1/1 /content/Skin-Disease-Classification-4/test/Basal-cell-carcinoma/basal-cell-carcinoma-lip-5_jpg.rf.db7c02316eddc96920d38218b1471148.jpg: 224x224 Basal-cell-carcinoma 0.63, Melanoma 0.24, Atopic-Dermatitis 0.04, Acne 0.04, Fissured-Skin 0.04, 17.0ms\n",
            "Speed: 0.3ms preprocess, 17.0ms inference, 0.1ms postprocess per image at shape (1, 3, 224, 224)\n",
            "\n",
            "image 1/1 /content/Skin-Disease-Classification-4/test/Basal-cell-carcinoma/basal-cell-carcinoma-lip-7_jpg.rf.e3b6105e653832d1413a6eb70e898a5e.jpg: 224x224 Basal-cell-carcinoma 0.68, Melanoma 0.17, Atopic-Dermatitis 0.06, Acne 0.04, Fissured-Skin 0.03, 10.4ms\n",
            "Speed: 0.3ms preprocess, 10.4ms inference, 0.1ms postprocess per image at shape (1, 3, 224, 224)\n",
            "\n",
            "image 1/1 /content/Skin-Disease-Classification-4/test/Basal-cell-carcinoma/basal-cell-carcinoma-ear-28_jpg.rf.fe8d76aceb4d257d8a56d78d3a76e716.jpg: 224x224 Basal-cell-carcinoma 0.87, Atopic-Dermatitis 0.06, Acne 0.03, Melanoma 0.02, Fissured-Skin 0.01, 10.5ms\n",
            "Speed: 0.3ms preprocess, 10.5ms inference, 0.1ms postprocess per image at shape (1, 3, 224, 224)\n",
            "\n",
            "image 1/1 /content/Skin-Disease-Classification-4/test/Basal-cell-carcinoma/basal-cell-carcinoma-superficial-8_jpg.rf.47173d8c55bf31a6783bfa774090192c.jpg: 224x224 Atopic-Dermatitis 0.34, Melanoma 0.33, Acne 0.15, Fissured-Skin 0.09, Nail Onychopathies 0.06, 10.1ms\n",
            "Speed: 0.3ms preprocess, 10.1ms inference, 0.1ms postprocess per image at shape (1, 3, 224, 224)\n",
            "\n",
            "image 1/1 /content/Skin-Disease-Classification-4/test/Basal-cell-carcinoma/basal-cell-carcinoma-lesion-4_jpg.rf.56d2e222a74537bff27547763258e6c0.jpg: 224x224 Basal-cell-carcinoma 0.85, Melanoma 0.05, Atopic-Dermatitis 0.05, Nail Onychopathies 0.02, Acne 0.02, 12.5ms\n",
            "Speed: 0.3ms preprocess, 12.5ms inference, 3.2ms postprocess per image at shape (1, 3, 224, 224)\n",
            "\n",
            "image 1/1 /content/Skin-Disease-Classification-4/test/Basal-cell-carcinoma/basal-cell-carcinoma-nose-65_jpg.rf.0f0651c676c1d942d55cdcc4ec8c2f49.jpg: 224x224 Basal-cell-carcinoma 0.95, Melanoma 0.03, Atopic-Dermatitis 0.01, Acne 0.01, Fissured-Skin 0.00, 10.0ms\n",
            "Speed: 0.3ms preprocess, 10.0ms inference, 0.2ms postprocess per image at shape (1, 3, 224, 224)\n",
            "\n",
            "image 1/1 /content/Skin-Disease-Classification-4/test/Basal-cell-carcinoma/basal-cell-carcinoma-pigmented-24_jpg.rf.e3f4fe6033de7c9e59990aac86d9cb2d.jpg: 224x224 Basal-cell-carcinoma 0.96, Melanoma 0.01, Atopic-Dermatitis 0.01, Acne 0.01, Fissured-Skin 0.00, 11.9ms\n",
            "Speed: 0.3ms preprocess, 11.9ms inference, 0.1ms postprocess per image at shape (1, 3, 224, 224)\n",
            "\n",
            "image 1/1 /content/Skin-Disease-Classification-4/test/Melanoma/ISIC_6781528_jpg.rf.208d5f5d11e3aef53c3888e16caa8ea2.jpg: 224x224 Melanoma 0.66, Basal-cell-carcinoma 0.18, Atopic-Dermatitis 0.08, Acne 0.04, Fissured-Skin 0.03, 10.0ms\n",
            "Speed: 0.3ms preprocess, 10.0ms inference, 0.1ms postprocess per image at shape (1, 3, 224, 224)\n",
            "\n",
            "image 1/1 /content/Skin-Disease-Classification-4/test/Melanoma/halo-nevus-22_jpg.rf.cc018af3ebe80cedfc830abd7f3669c6.jpg: 224x224 Melanoma 0.69, Atopic-Dermatitis 0.12, Basal-cell-carcinoma 0.08, Acne 0.07, Fissured-Skin 0.03, 10.0ms\n",
            "Speed: 0.3ms preprocess, 10.0ms inference, 0.1ms postprocess per image at shape (1, 3, 224, 224)\n",
            "\n",
            "image 1/1 /content/Skin-Disease-Classification-4/test/Melanoma/melanocytic-nevi-49_jpg.rf.502b75d3751b374d779473855562b786.jpg: 224x224 Melanoma 0.53, Atopic-Dermatitis 0.16, Basal-cell-carcinoma 0.14, Acne 0.08, Fissured-Skin 0.05, 10.1ms\n",
            "Speed: 0.3ms preprocess, 10.1ms inference, 0.2ms postprocess per image at shape (1, 3, 224, 224)\n",
            "\n",
            "image 1/1 /content/Skin-Disease-Classification-4/test/Melanoma/spitz-nevus-3_jpg.rf.72678080e5b25f61645ff39cf85fe813.jpg: 224x224 Basal-cell-carcinoma 0.90, Melanoma 0.09, Acne 0.00, Atopic-Dermatitis 0.00, Fissured-Skin 0.00, 10.1ms\n",
            "Speed: 0.3ms preprocess, 10.1ms inference, 0.2ms postprocess per image at shape (1, 3, 224, 224)\n",
            "\n",
            "image 1/1 /content/Skin-Disease-Classification-4/test/Melanoma/ISIC_6722586_jpg.rf.61551465aa0e3a9b70b0a4e8c8a6404d.jpg: 224x224 Melanoma 0.99, Basal-cell-carcinoma 0.00, Atopic-Dermatitis 0.00, Acne 0.00, Nail Onychopathies 0.00, 10.1ms\n",
            "Speed: 0.3ms preprocess, 10.1ms inference, 0.1ms postprocess per image at shape (1, 3, 224, 224)\n",
            "\n",
            "image 1/1 /content/Skin-Disease-Classification-4/test/Melanoma/nevus-spilus-17_jpg.rf.1c1e3ab7096822fc5a03c32cbfa4a552.jpg: 224x224 Atopic-Dermatitis 0.60, Fissured-Skin 0.26, Melanoma 0.08, Unlabeled 0.02, Acne 0.01, 10.1ms\n",
            "Speed: 0.3ms preprocess, 10.1ms inference, 0.1ms postprocess per image at shape (1, 3, 224, 224)\n",
            "\n",
            "image 1/1 /content/Skin-Disease-Classification-4/test/Melanoma/ISIC_6722603_jpg.rf.076e45f21c21b25582a930d3bc4df465.jpg: 224x224 Melanoma 1.00, Basal-cell-carcinoma 0.00, Atopic-Dermatitis 0.00, Acne 0.00, Nail Onychopathies 0.00, 12.1ms\n",
            "Speed: 0.3ms preprocess, 12.1ms inference, 0.3ms postprocess per image at shape (1, 3, 224, 224)\n",
            "\n"
          ]
        },
        {
          "output_type": "stream",
          "name": "stdout",
          "text": [
            "Images in Melanoma:\n"
          ]
        },
        {
          "output_type": "stream",
          "name": "stderr",
          "text": [
            "image 1/1 /content/Skin-Disease-Classification-4/test/Melanoma/blue-nevus-ota-9_jpg.rf.2b3cbc08d1334c4e016c8a6108829b35.jpg: 224x224 Atopic-Dermatitis 0.41, Fissured-Skin 0.35, Acne 0.14, Melanoma 0.03, Unlabeled 0.03, 16.5ms\n",
            "Speed: 0.3ms preprocess, 16.5ms inference, 0.1ms postprocess per image at shape (1, 3, 224, 224)\n",
            "\n",
            "image 1/1 /content/Skin-Disease-Classification-4/test/Melanoma/ISIC_6653225_jpg.rf.ade8a3a11b8f58dc4e895af99b0ac397.jpg: 224x224 Basal-cell-carcinoma 0.61, Melanoma 0.15, Atopic-Dermatitis 0.14, Acne 0.06, Fissured-Skin 0.02, 10.1ms\n",
            "Speed: 0.3ms preprocess, 10.1ms inference, 0.1ms postprocess per image at shape (1, 3, 224, 224)\n",
            "\n",
            "image 1/1 /content/Skin-Disease-Classification-4/test/Melanoma/nevus-spilus-26_jpg.rf.b3826dbc79d2fd78fc4007d96376dcc7.jpg: 224x224 Melanoma 0.83, Basal-cell-carcinoma 0.13, Atopic-Dermatitis 0.02, Acne 0.01, Fissured-Skin 0.01, 10.4ms\n",
            "Speed: 0.3ms preprocess, 10.4ms inference, 0.0ms postprocess per image at shape (1, 3, 224, 224)\n",
            "\n",
            "image 1/1 /content/Skin-Disease-Classification-4/test/Melanoma/atypical-nevi-dermoscopy-71_jpg.rf.22dd55a34d0e1eae759925e6e105e404.jpg: 224x224 Melanoma 0.96, Basal-cell-carcinoma 0.01, Atopic-Dermatitis 0.01, Acne 0.01, Fissured-Skin 0.00, 10.0ms\n",
            "Speed: 0.4ms preprocess, 10.0ms inference, 0.1ms postprocess per image at shape (1, 3, 224, 224)\n",
            "\n",
            "image 1/1 /content/Skin-Disease-Classification-4/test/Melanoma/ISIC_6666835_jpg.rf.52b8b6499c098c114022aed284f0941e.jpg: 224x224 Melanoma 0.49, Nail Onychopathies 0.18, Atopic-Dermatitis 0.13, Basal-cell-carcinoma 0.08, Fissured-Skin 0.07, 11.5ms\n",
            "Speed: 0.3ms preprocess, 11.5ms inference, 0.1ms postprocess per image at shape (1, 3, 224, 224)\n",
            "\n",
            "image 1/1 /content/Skin-Disease-Classification-4/test/Melanoma/malignant-melanoma-96_jpg.rf.209fff5c6e5f41d034129039e7c9b02b.jpg: 224x224 Melanoma 0.93, Basal-cell-carcinoma 0.05, Atopic-Dermatitis 0.01, Acne 0.00, Fissured-Skin 0.00, 11.4ms\n",
            "Speed: 0.3ms preprocess, 11.4ms inference, 0.2ms postprocess per image at shape (1, 3, 224, 224)\n",
            "\n",
            "image 1/1 /content/Skin-Disease-Classification-4/test/Melanoma/lentigo-maligna-21_jpg.rf.82b9795033245733357e67da3c008f39.jpg: 224x224 Basal-cell-carcinoma 0.51, Melanoma 0.34, Acne 0.07, Atopic-Dermatitis 0.05, Fissured-Skin 0.02, 11.6ms\n",
            "Speed: 0.3ms preprocess, 11.6ms inference, 0.1ms postprocess per image at shape (1, 3, 224, 224)\n",
            "\n",
            "image 1/1 /content/Skin-Disease-Classification-4/test/Melanoma/ISIC_6754835_jpg.rf.461dbfa9ab12f7919bc1eb11907fba83.jpg: 224x224 Melanoma 0.98, Basal-cell-carcinoma 0.01, Atopic-Dermatitis 0.00, Nail Onychopathies 0.00, Fissured-Skin 0.00, 10.0ms\n",
            "Speed: 1.6ms preprocess, 10.0ms inference, 0.1ms postprocess per image at shape (1, 3, 224, 224)\n",
            "\n",
            "image 1/1 /content/Skin-Disease-Classification-4/test/Melanoma/ISIC_6676568_jpg.rf.12821700125ba57c16321d387a548e0e.jpg: 224x224 Melanoma 0.64, Basal-cell-carcinoma 0.19, Atopic-Dermatitis 0.09, Fissured-Skin 0.03, Acne 0.02, 10.0ms\n",
            "Speed: 0.3ms preprocess, 10.0ms inference, 0.2ms postprocess per image at shape (1, 3, 224, 224)\n",
            "\n",
            "image 1/1 /content/Skin-Disease-Classification-4/test/Melanoma/ISIC_6730455_jpg.rf.31111a9ee7e53fa63122eb76ff900099.jpg: 224x224 Melanoma 0.66, Basal-cell-carcinoma 0.21, Atopic-Dermatitis 0.06, Fissured-Skin 0.02, Nail Onychopathies 0.02, 10.6ms\n",
            "Speed: 0.3ms preprocess, 10.6ms inference, 0.2ms postprocess per image at shape (1, 3, 224, 224)\n",
            "\n",
            "image 1/1 /content/Skin-Disease-Classification-4/test/Melanoma/ISIC_6745554_jpg.rf.f8f30315a4ef03446e86dbac7ee9756b.jpg: 224x224 Basal-cell-carcinoma 0.50, Melanoma 0.47, Atopic-Dermatitis 0.02, Acne 0.01, Fissured-Skin 0.00, 12.5ms\n",
            "Speed: 0.3ms preprocess, 12.5ms inference, 0.2ms postprocess per image at shape (1, 3, 224, 224)\n",
            "\n",
            "image 1/1 /content/Skin-Disease-Classification-4/test/Melanoma/ISIC_6667142_jpg.rf.ad8bd839a46ab74f52702f007524f4f8.jpg: 224x224 Melanoma 1.00, Atopic-Dermatitis 0.00, Basal-cell-carcinoma 0.00, Acne 0.00, Nail Onychopathies 0.00, 10.0ms\n",
            "Speed: 1.3ms preprocess, 10.0ms inference, 0.3ms postprocess per image at shape (1, 3, 224, 224)\n",
            "\n",
            "image 1/1 /content/Skin-Disease-Classification-4/test/Melanoma/ISIC_6705470_jpg.rf.5ad609ef054f34448347571e1f936d59.jpg: 224x224 Melanoma 0.99, Basal-cell-carcinoma 0.01, Atopic-Dermatitis 0.00, Nail Onychopathies 0.00, Acne 0.00, 10.0ms\n",
            "Speed: 0.3ms preprocess, 10.0ms inference, 0.1ms postprocess per image at shape (1, 3, 224, 224)\n",
            "\n",
            "image 1/1 /content/Skin-Disease-Classification-4/test/Melanoma/ISIC_6692281_jpg.rf.28ad055fd87b7f18b8d886f7fc25e434.jpg: 224x224 Melanoma 0.98, Atopic-Dermatitis 0.01, Basal-cell-carcinoma 0.01, Acne 0.00, Nail Onychopathies 0.00, 10.0ms\n",
            "Speed: 0.3ms preprocess, 10.0ms inference, 0.1ms postprocess per image at shape (1, 3, 224, 224)\n",
            "\n",
            "image 1/1 /content/Skin-Disease-Classification-4/test/Melanoma/atypical-nevi-54_jpg.rf.eb972affb50a6f59d5e5c9fa912384e1.jpg: 224x224 Melanoma 0.97, Basal-cell-carcinoma 0.01, Atopic-Dermatitis 0.01, Acne 0.00, Fissured-Skin 0.00, 12.5ms\n",
            "Speed: 0.3ms preprocess, 12.5ms inference, 0.1ms postprocess per image at shape (1, 3, 224, 224)\n",
            "\n",
            "image 1/1 /content/Skin-Disease-Classification-4/test/Melanoma/atypical-nevi-trunk-13_jpg.rf.9f2b22d193ddb2e49bb1724283223eb3.jpg: 224x224 Atopic-Dermatitis 0.37, Fissured-Skin 0.37, Nail Onychopathies 0.08, Melanoma 0.06, Acne 0.06, 10.5ms\n",
            "Speed: 0.3ms preprocess, 10.5ms inference, 0.1ms postprocess per image at shape (1, 3, 224, 224)\n",
            "\n",
            "image 1/1 /content/Skin-Disease-Classification-4/test/Melanoma/spitz-nevus-7_jpg.rf.30e5b1ecbf731600532e08db270c9634.jpg: 224x224 Melanoma 0.96, Basal-cell-carcinoma 0.02, Atopic-Dermatitis 0.01, Acne 0.00, Fissured-Skin 0.00, 10.2ms\n",
            "Speed: 0.3ms preprocess, 10.2ms inference, 0.1ms postprocess per image at shape (1, 3, 224, 224)\n",
            "\n",
            "image 1/1 /content/Skin-Disease-Classification-4/test/Melanoma/ISIC_6777986_jpg.rf.1273c78001cb3b6ed23a19ec5933e4c0.jpg: 224x224 Melanoma 1.00, Atopic-Dermatitis 0.00, Basal-cell-carcinoma 0.00, Acne 0.00, Nail Onychopathies 0.00, 10.0ms\n",
            "Speed: 0.3ms preprocess, 10.0ms inference, 0.1ms postprocess per image at shape (1, 3, 224, 224)\n",
            "\n",
            "image 1/1 /content/Skin-Disease-Classification-4/test/Melanoma/ISIC_6667080_jpg.rf.3a8d2c59615832674a942aae547bf912.jpg: 224x224 Melanoma 0.97, Basal-cell-carcinoma 0.02, Atopic-Dermatitis 0.01, Acne 0.00, Fissured-Skin 0.00, 10.9ms\n",
            "Speed: 0.7ms preprocess, 10.9ms inference, 0.1ms postprocess per image at shape (1, 3, 224, 224)\n",
            "\n",
            "image 1/1 /content/Skin-Disease-Classification-4/test/Melanoma/malignant-melanoma-98_jpg.rf.336a213b28b9d360feb4258532cc8072.jpg: 224x224 Basal-cell-carcinoma 0.48, Melanoma 0.39, Atopic-Dermatitis 0.05, Fissured-Skin 0.04, Acne 0.03, 10.1ms\n",
            "Speed: 3.5ms preprocess, 10.1ms inference, 0.1ms postprocess per image at shape (1, 3, 224, 224)\n",
            "\n",
            "image 1/1 /content/Skin-Disease-Classification-4/test/Melanoma/malignant-melanoma-187_jpg.rf.87709d3dafde872e80d9707440403ab9.jpg: 224x224 Melanoma 0.82, Basal-cell-carcinoma 0.17, Atopic-Dermatitis 0.00, Nail Onychopathies 0.00, Acne 0.00, 12.4ms\n",
            "Speed: 0.3ms preprocess, 12.4ms inference, 3.9ms postprocess per image at shape (1, 3, 224, 224)\n",
            "\n",
            "image 1/1 /content/Skin-Disease-Classification-4/test/Melanoma/ISIC_6759319_jpg.rf.be8e5cebdd7af893ba527b4176f9cbe0.jpg: 224x224 Melanoma 0.99, Basal-cell-carcinoma 0.00, Atopic-Dermatitis 0.00, Acne 0.00, Nail Onychopathies 0.00, 12.8ms\n",
            "Speed: 0.3ms preprocess, 12.8ms inference, 0.1ms postprocess per image at shape (1, 3, 224, 224)\n",
            "\n",
            "image 1/1 /content/Skin-Disease-Classification-4/test/Melanoma/malignant-melanoma-146_jpg.rf.cefd566714c22cd7bf830424a4137abc.jpg: 224x224 Melanoma 0.93, Basal-cell-carcinoma 0.05, Atopic-Dermatitis 0.01, Acne 0.00, Fissured-Skin 0.00, 13.0ms\n",
            "Speed: 0.3ms preprocess, 13.0ms inference, 0.1ms postprocess per image at shape (1, 3, 224, 224)\n",
            "\n",
            "image 1/1 /content/Skin-Disease-Classification-4/test/Melanoma/ISIC_6751908_jpg.rf.252a80b423de0ae0c0a6bc57ffbd00fc.jpg: 224x224 Melanoma 0.99, Atopic-Dermatitis 0.01, Basal-cell-carcinoma 0.01, Acne 0.00, Fissured-Skin 0.00, 10.7ms\n",
            "Speed: 0.2ms preprocess, 10.7ms inference, 0.0ms postprocess per image at shape (1, 3, 224, 224)\n",
            "\n",
            "image 1/1 /content/Skin-Disease-Classification-4/test/Melanoma/ISIC_6661862_jpg.rf.9e747f5ec7dd498ded100e8a4db2b6fa.jpg: 224x224 Acne 0.24, Melanoma 0.21, Basal-cell-carcinoma 0.21, Atopic-Dermatitis 0.19, Fissured-Skin 0.14, 10.7ms\n",
            "Speed: 0.2ms preprocess, 10.7ms inference, 0.0ms postprocess per image at shape (1, 3, 224, 224)\n",
            "\n",
            "image 1/1 /content/Skin-Disease-Classification-4/test/Melanoma/blue-nevus-7_jpg.rf.472ece6f1a99bb37c434854eecfaad7f.jpg: 224x224 Melanoma 0.50, Basal-cell-carcinoma 0.35, Fissured-Skin 0.06, Atopic-Dermatitis 0.05, Acne 0.02, 10.7ms\n",
            "Speed: 0.2ms preprocess, 10.7ms inference, 0.0ms postprocess per image at shape (1, 3, 224, 224)\n",
            "\n",
            "image 1/1 /content/Skin-Disease-Classification-4/test/Fissured-Skin/Dyshidrosis-33_jpg.rf.efcba6ad0ce78e2b9f9f4b88b4892763.jpg: 224x224 Acne 0.52, Atopic-Dermatitis 0.23, Basal-cell-carcinoma 0.13, Fissured-Skin 0.11, Melanoma 0.02, 10.9ms\n",
            "Speed: 0.3ms preprocess, 10.9ms inference, 0.1ms postprocess per image at shape (1, 3, 224, 224)\n",
            "\n",
            "image 1/1 /content/Skin-Disease-Classification-4/test/Fissured-Skin/stasis-dermatitis-192_jpg.rf.b657dfd02f6f1adee0ac6f15c160fd62.jpg: 224x224 Fissured-Skin 0.59, Atopic-Dermatitis 0.36, Unlabeled 0.02, Acne 0.02, Melanoma 0.00, 10.7ms\n",
            "Speed: 0.2ms preprocess, 10.7ms inference, 0.1ms postprocess per image at shape (1, 3, 224, 224)\n",
            "\n",
            "image 1/1 /content/Skin-Disease-Classification-4/test/Fissured-Skin/stasis-dermatitis-14_jpg.rf.5809c85553be6b242a287bc31ebd85ab.jpg: 224x224 Fissured-Skin 0.36, Atopic-Dermatitis 0.25, Acne 0.17, Nail Onychopathies 0.09, Basal-cell-carcinoma 0.06, 10.7ms\n",
            "Speed: 0.2ms preprocess, 10.7ms inference, 0.0ms postprocess per image at shape (1, 3, 224, 224)\n",
            "\n",
            "image 1/1 /content/Skin-Disease-Classification-4/test/Fissured-Skin/lichen-simplex-chronicus-188_jpg.rf.bc4a6169da57c487e845eb4553857501.jpg: 224x224 Fissured-Skin 0.37, Atopic-Dermatitis 0.31, Acne 0.25, Melanoma 0.03, Unlabeled 0.02, 10.2ms\n",
            "Speed: 0.2ms preprocess, 10.2ms inference, 0.0ms postprocess per image at shape (1, 3, 224, 224)\n",
            "\n",
            "image 1/1 /content/Skin-Disease-Classification-4/test/Fissured-Skin/keratolysis-exfoliativa-49_jpg.rf.27273faee8e2101d8ba55eea0f0e4d6d.jpg: 224x224 Fissured-Skin 0.40, Atopic-Dermatitis 0.34, Acne 0.17, Melanoma 0.03, Basal-cell-carcinoma 0.03, 10.2ms\n",
            "Speed: 0.3ms preprocess, 10.2ms inference, 0.1ms postprocess per image at shape (1, 3, 224, 224)\n",
            "\n",
            "image 1/1 /content/Skin-Disease-Classification-4/test/Fissured-Skin/keratolysis-exfoliativa-33_jpg.rf.fda426bb731b6339ec2f26fcc1559d97.jpg: 224x224 Fissured-Skin 0.47, Atopic-Dermatitis 0.36, Acne 0.14, Unlabeled 0.03, Nail Onychopathies 0.01, 10.2ms\n",
            "Speed: 0.2ms preprocess, 10.2ms inference, 0.0ms postprocess per image at shape (1, 3, 224, 224)\n",
            "\n",
            "image 1/1 /content/Skin-Disease-Classification-4/test/Fissured-Skin/stasis-dermatitis-161_jpg.rf.21c3ebe0da242dac21dce558071d53b3.jpg: 224x224 Atopic-Dermatitis 0.55, Fissured-Skin 0.32, Acne 0.07, Unlabeled 0.06, Nail Onychopathies 0.00, 10.2ms\n",
            "Speed: 0.2ms preprocess, 10.2ms inference, 0.0ms postprocess per image at shape (1, 3, 224, 224)\n",
            "\n",
            "image 1/1 /content/Skin-Disease-Classification-4/test/Fissured-Skin/iododerma-2_jpg.rf.169b2932dc72f8f2dd72da89c98718a7.jpg: 224x224 Atopic-Dermatitis 0.38, Acne 0.30, Fissured-Skin 0.16, Basal-cell-carcinoma 0.07, Melanoma 0.07, 10.2ms\n",
            "Speed: 0.2ms preprocess, 10.2ms inference, 0.0ms postprocess per image at shape (1, 3, 224, 224)\n",
            "\n"
          ]
        },
        {
          "output_type": "stream",
          "name": "stdout",
          "text": [
            "Images in Fissured-Skin:\n"
          ]
        },
        {
          "output_type": "stream",
          "name": "stderr",
          "text": [
            "image 1/1 /content/Skin-Disease-Classification-4/test/Fissured-Skin/prurigo-nodularis-33_jpg.rf.e39927eed5cfce829322770a28c12597.jpg: 224x224 Fissured-Skin 0.60, Atopic-Dermatitis 0.36, Acne 0.01, Unlabeled 0.01, Melanoma 0.01, 10.2ms\n",
            "Speed: 0.5ms preprocess, 10.2ms inference, 0.0ms postprocess per image at shape (1, 3, 224, 224)\n",
            "\n",
            "image 1/1 /content/Skin-Disease-Classification-4/test/Fissured-Skin/chapped-fissured-feet-26_jpg.rf.18dbfbb70b9911ccd10b0440990f421b.jpg: 224x224 Fissured-Skin 0.50, Atopic-Dermatitis 0.41, Nail Onychopathies 0.04, Unlabeled 0.02, Acne 0.02, 10.2ms\n",
            "Speed: 0.2ms preprocess, 10.2ms inference, 0.0ms postprocess per image at shape (1, 3, 224, 224)\n",
            "\n",
            "image 1/1 /content/Skin-Disease-Classification-4/test/Fissured-Skin/Dyshidrosis-4_jpg.rf.ac7b8bde2973e6238b17009d36ce7d54.jpg: 224x224 Atopic-Dermatitis 0.46, Fissured-Skin 0.36, Acne 0.06, Nail Onychopathies 0.04, Basal-cell-carcinoma 0.03, 10.2ms\n",
            "Speed: 0.2ms preprocess, 10.2ms inference, 0.1ms postprocess per image at shape (1, 3, 224, 224)\n",
            "\n",
            "image 1/1 /content/Skin-Disease-Classification-4/test/Fissured-Skin/stasis-dermatitis-115_jpg.rf.660ecc5571d1e229a36f6d2340e1edcb.jpg: 224x224 Atopic-Dermatitis 0.45, Fissured-Skin 0.41, Acne 0.05, Melanoma 0.03, Unlabeled 0.02, 10.2ms\n",
            "Speed: 0.2ms preprocess, 10.2ms inference, 0.0ms postprocess per image at shape (1, 3, 224, 224)\n",
            "\n",
            "image 1/1 /content/Skin-Disease-Classification-4/test/Fissured-Skin/stasis-dermatitis-187_jpg.rf.a196dc594ada91d1590a85e9ab72763b.jpg: 224x224 Fissured-Skin 0.54, Atopic-Dermatitis 0.34, Acne 0.08, Basal-cell-carcinoma 0.02, Unlabeled 0.01, 10.0ms\n",
            "Speed: 0.3ms preprocess, 10.0ms inference, 0.0ms postprocess per image at shape (1, 3, 224, 224)\n",
            "\n",
            "image 1/1 /content/Skin-Disease-Classification-4/test/Fissured-Skin/keratolysis-exfoliativa-24_jpg.rf.0d4aa7d6a0ee7c0597c0e1af8454eeb6.jpg: 224x224 Atopic-Dermatitis 0.30, Fissured-Skin 0.28, Acne 0.20, Melanoma 0.09, Basal-cell-carcinoma 0.08, 10.0ms\n",
            "Speed: 0.2ms preprocess, 10.0ms inference, 0.0ms postprocess per image at shape (1, 3, 224, 224)\n",
            "\n",
            "image 1/1 /content/Skin-Disease-Classification-4/test/Fissured-Skin/360_F_251213117_Y35qNrHSN4Jl6cvgXR2CPyNuGHuH8tqX_jpg.rf.7403bda8498530408fc2d05287c3efaf.jpg: 224x224 Nail Onychopathies 0.58, Atopic-Dermatitis 0.20, Fissured-Skin 0.08, Acne 0.05, Basal-cell-carcinoma 0.05, 10.3ms\n",
            "Speed: 0.3ms preprocess, 10.3ms inference, 0.0ms postprocess per image at shape (1, 3, 224, 224)\n",
            "\n",
            "image 1/1 /content/Skin-Disease-Classification-4/test/Fissured-Skin/stasis-dermatitis-116_jpg.rf.ca404788b8a01eeeeded5cdc016f7cb4.jpg: 224x224 Atopic-Dermatitis 0.35, Fissured-Skin 0.33, Acne 0.24, Melanoma 0.04, Unlabeled 0.02, 9.9ms\n",
            "Speed: 0.2ms preprocess, 9.9ms inference, 0.0ms postprocess per image at shape (1, 3, 224, 224)\n",
            "\n",
            "image 1/1 /content/Skin-Disease-Classification-4/test/Fissured-Skin/stasis-dermatitis-153_jpg.rf.c6dac34b2b9f28432c182ee2ddd4cc4e.jpg: 224x224 Fissured-Skin 0.53, Atopic-Dermatitis 0.41, Nail Onychopathies 0.02, Acne 0.02, Unlabeled 0.02, 9.9ms\n",
            "Speed: 0.2ms preprocess, 9.9ms inference, 0.1ms postprocess per image at shape (1, 3, 224, 224)\n",
            "\n",
            "image 1/1 /content/Skin-Disease-Classification-4/test/Fissured-Skin/Dyshidrosis-51_jpg.rf.d6213070bc89efda0c5a493292c9d488.jpg: 224x224 Basal-cell-carcinoma 0.39, Atopic-Dermatitis 0.30, Acne 0.14, Fissured-Skin 0.12, Melanoma 0.03, 9.9ms\n",
            "Speed: 0.2ms preprocess, 9.9ms inference, 0.0ms postprocess per image at shape (1, 3, 224, 224)\n",
            "\n",
            "image 1/1 /content/Skin-Disease-Classification-4/test/Nail Onychopathies/distal-subungual-onychomycosis-27_jpg.rf.46f92ff4b27437c24774d78219d8b75a.jpg: 224x224 Fissured-Skin 0.46, Nail Onychopathies 0.32, Atopic-Dermatitis 0.14, Basal-cell-carcinoma 0.03, Melanoma 0.02, 10.0ms\n",
            "Speed: 0.2ms preprocess, 10.0ms inference, 0.0ms postprocess per image at shape (1, 3, 224, 224)\n",
            "\n",
            "image 1/1 /content/Skin-Disease-Classification-4/test/Nail Onychopathies/onycholysis-2_jpg.rf.f591dff8f1afcca43dd7e69bedfa6390.jpg: 224x224 Atopic-Dermatitis 0.42, Acne 0.20, Nail Onychopathies 0.13, Basal-cell-carcinoma 0.12, Fissured-Skin 0.10, 9.9ms\n",
            "Speed: 0.2ms preprocess, 9.9ms inference, 0.0ms postprocess per image at shape (1, 3, 224, 224)\n",
            "\n",
            "image 1/1 /content/Skin-Disease-Classification-4/test/Nail Onychopathies/chronic-paronychia-39_jpg.rf.79d16f11b74f1a7ec46dc973d6d89f37.jpg: 224x224 Nail Onychopathies 0.96, Atopic-Dermatitis 0.02, Fissured-Skin 0.01, Acne 0.00, Basal-cell-carcinoma 0.00, 10.2ms\n",
            "Speed: 0.3ms preprocess, 10.2ms inference, 0.1ms postprocess per image at shape (1, 3, 224, 224)\n",
            "\n",
            "image 1/1 /content/Skin-Disease-Classification-4/test/Nail Onychopathies/psoriasis-4_jpg.rf.86984d899f6f7ca47a69d53583d1e284.jpg: 224x224 Nail Onychopathies 0.93, Basal-cell-carcinoma 0.03, Atopic-Dermatitis 0.02, Fissured-Skin 0.01, Melanoma 0.00, 9.5ms\n",
            "Speed: 0.3ms preprocess, 9.5ms inference, 0.0ms postprocess per image at shape (1, 3, 224, 224)\n",
            "\n",
            "image 1/1 /content/Skin-Disease-Classification-4/test/Nail Onychopathies/habit-tic-deformity-32_jpg.rf.23511823eb47ec26bc02151a5005b922.jpg: 224x224 Nail Onychopathies 0.91, Atopic-Dermatitis 0.04, Fissured-Skin 0.03, Acne 0.01, Basal-cell-carcinoma 0.01, 9.6ms\n",
            "Speed: 0.2ms preprocess, 9.6ms inference, 0.0ms postprocess per image at shape (1, 3, 224, 224)\n",
            "\n",
            "image 1/1 /content/Skin-Disease-Classification-4/test/Nail Onychopathies/habit-tic-deformity-21_jpg.rf.548e835952c3d20d9e5c111b6266eb2c.jpg: 224x224 Nail Onychopathies 1.00, Atopic-Dermatitis 0.00, Basal-cell-carcinoma 0.00, Fissured-Skin 0.00, Melanoma 0.00, 9.6ms\n",
            "Speed: 0.2ms preprocess, 9.6ms inference, 0.1ms postprocess per image at shape (1, 3, 224, 224)\n",
            "\n",
            "image 1/1 /content/Skin-Disease-Classification-4/test/Nail Onychopathies/psoriasis-20_jpg.rf.565079ae1c1288f526e32220a3777b75.jpg: 224x224 Nail Onychopathies 0.41, Fissured-Skin 0.32, Atopic-Dermatitis 0.24, Melanoma 0.01, Acne 0.01, 9.9ms\n",
            "Speed: 0.4ms preprocess, 9.9ms inference, 0.1ms postprocess per image at shape (1, 3, 224, 224)\n",
            "\n",
            "image 1/1 /content/Skin-Disease-Classification-4/test/Nail Onychopathies/ingrown-nail-6_jpg.rf.8d699335c2554c8a0a19843f94ce1e28.jpg: 224x224 Nail Onychopathies 0.99, Atopic-Dermatitis 0.00, Fissured-Skin 0.00, Basal-cell-carcinoma 0.00, Acne 0.00, 9.3ms\n",
            "Speed: 0.2ms preprocess, 9.3ms inference, 0.0ms postprocess per image at shape (1, 3, 224, 224)\n",
            "\n"
          ]
        },
        {
          "output_type": "stream",
          "name": "stdout",
          "text": [
            "Images in Nail Onychopathies:\n"
          ]
        },
        {
          "output_type": "stream",
          "name": "stderr",
          "text": [
            "image 1/1 /content/Skin-Disease-Classification-4/test/Nail Onychopathies/pincer-nails-17_jpg.rf.7721813dbe11e42d8299b0b02e7c5d78.jpg: 224x224 Nail Onychopathies 0.85, Fissured-Skin 0.07, Atopic-Dermatitis 0.06, Acne 0.01, Melanoma 0.01, 9.4ms\n",
            "Speed: 0.2ms preprocess, 9.4ms inference, 0.0ms postprocess per image at shape (1, 3, 224, 224)\n",
            "\n",
            "image 1/1 /content/Skin-Disease-Classification-4/test/Nail Onychopathies/distal-subungual-onychomycosis-148_jpg.rf.72ffb9df6d1df8d8b22cd36852b63985.jpg: 224x224 Nail Onychopathies 0.96, Atopic-Dermatitis 0.02, Fissured-Skin 0.01, Melanoma 0.01, Basal-cell-carcinoma 0.01, 9.4ms\n",
            "Speed: 0.3ms preprocess, 9.4ms inference, 0.1ms postprocess per image at shape (1, 3, 224, 224)\n",
            "\n",
            "image 1/1 /content/Skin-Disease-Classification-4/test/Nail Onychopathies/mucous-cyst-40_jpg.rf.c38176623695972dce0222436f4b2cea.jpg: 224x224 Nail Onychopathies 0.97, Fissured-Skin 0.02, Atopic-Dermatitis 0.01, Melanoma 0.00, Acne 0.00, 9.3ms\n",
            "Speed: 0.3ms preprocess, 9.3ms inference, 0.4ms postprocess per image at shape (1, 3, 224, 224)\n",
            "\n",
            "image 1/1 /content/Skin-Disease-Classification-4/test/Nail Onychopathies/pigmented-bands-8_jpg.rf.963e65d7f102da5db957eba771890270.jpg: 224x224 Nail Onychopathies 0.94, Atopic-Dermatitis 0.03, Fissured-Skin 0.02, Basal-cell-carcinoma 0.01, Melanoma 0.01, 9.3ms\n",
            "Speed: 0.3ms preprocess, 9.3ms inference, 0.1ms postprocess per image at shape (1, 3, 224, 224)\n",
            "\n",
            "image 1/1 /content/Skin-Disease-Classification-4/test/Nail Onychopathies/psoriasis-110_jpg.rf.7fa2170dddc5fdd70989a1c499db7e0f.jpg: 224x224 Nail Onychopathies 0.95, Fissured-Skin 0.03, Atopic-Dermatitis 0.01, Acne 0.00, Basal-cell-carcinoma 0.00, 9.3ms\n",
            "Speed: 0.2ms preprocess, 9.3ms inference, 0.1ms postprocess per image at shape (1, 3, 224, 224)\n",
            "\n",
            "image 1/1 /content/Skin-Disease-Classification-4/test/Nail Onychopathies/mucous-cyst-97_jpg.rf.9483c0a239c58008a585afb6152c82f4.jpg: 224x224 Nail Onychopathies 0.94, Atopic-Dermatitis 0.04, Fissured-Skin 0.02, Melanoma 0.00, Unlabeled 0.00, 9.3ms\n",
            "Speed: 0.2ms preprocess, 9.3ms inference, 0.1ms postprocess per image at shape (1, 3, 224, 224)\n",
            "\n",
            "image 1/1 /content/Skin-Disease-Classification-4/test/Nail Onychopathies/clubbing-13_jpg.rf.8009ab4c63497b577d8e239d7791631b.jpg: 224x224 Fissured-Skin 0.43, Atopic-Dermatitis 0.41, Nail Onychopathies 0.14, Unlabeled 0.01, Melanoma 0.01, 9.3ms\n",
            "Speed: 0.2ms preprocess, 9.3ms inference, 0.1ms postprocess per image at shape (1, 3, 224, 224)\n",
            "\n",
            "image 1/1 /content/Skin-Disease-Classification-4/test/Nail Onychopathies/psoriasis-121_jpg.rf.12162acc379edfe68e085b2be898adbb.jpg: 224x224 Nail Onychopathies 0.99, Atopic-Dermatitis 0.01, Fissured-Skin 0.00, Unlabeled 0.00, Acne 0.00, 9.3ms\n",
            "Speed: 0.2ms preprocess, 9.3ms inference, 0.1ms postprocess per image at shape (1, 3, 224, 224)\n",
            "\n",
            "image 1/1 /content/Skin-Disease-Classification-4/test/Nail Onychopathies/fissure-8_jpg.rf.680ec848a419dbf2c7ee1d94791ea448.jpg: 224x224 Nail Onychopathies 0.77, Fissured-Skin 0.12, Atopic-Dermatitis 0.09, Melanoma 0.00, Basal-cell-carcinoma 0.00, 9.3ms\n",
            "Speed: 0.2ms preprocess, 9.3ms inference, 0.1ms postprocess per image at shape (1, 3, 224, 224)\n",
            "\n",
            "image 1/1 /content/Skin-Disease-Classification-4/test/Nail Onychopathies/habit-tic-deformity-6_jpg.rf.7bdb9f80bae0659c440ac957540643f7.jpg: 224x224 Fissured-Skin 0.40, Nail Onychopathies 0.36, Atopic-Dermatitis 0.20, Acne 0.01, Unlabeled 0.01, 9.4ms\n",
            "Speed: 0.3ms preprocess, 9.4ms inference, 0.1ms postprocess per image at shape (1, 3, 224, 224)\n",
            "\n",
            "image 1/1 /content/Skin-Disease-Classification-4/test/Nail Onychopathies/nail-melanoma-4_jpg.rf.24bd4364a1bdf030d69e043551571e0c.jpg: 224x224 Nail Onychopathies 0.57, Atopic-Dermatitis 0.14, Fissured-Skin 0.10, Melanoma 0.09, Basal-cell-carcinoma 0.07, 9.3ms\n",
            "Speed: 0.2ms preprocess, 9.3ms inference, 0.1ms postprocess per image at shape (1, 3, 224, 224)\n",
            "\n",
            "image 1/1 /content/Skin-Disease-Classification-4/test/Nail Onychopathies/psoriasis-99_jpg.rf.35c768fd1323fe430405ecb204fb2a77.jpg: 224x224 Nail Onychopathies 1.00, Atopic-Dermatitis 0.00, Basal-cell-carcinoma 0.00, Fissured-Skin 0.00, Melanoma 0.00, 9.5ms\n",
            "Speed: 0.2ms preprocess, 9.5ms inference, 0.0ms postprocess per image at shape (1, 3, 224, 224)\n",
            "\n",
            "image 1/1 /content/Skin-Disease-Classification-4/test/Nail Onychopathies/onycholysis-34_jpg.rf.474ffebc87ebc8e9ca0a9e9480fa7f75.jpg: 224x224 Nail Onychopathies 0.97, Atopic-Dermatitis 0.02, Fissured-Skin 0.01, Acne 0.00, Basal-cell-carcinoma 0.00, 9.4ms\n",
            "Speed: 0.2ms preprocess, 9.4ms inference, 0.1ms postprocess per image at shape (1, 3, 224, 224)\n",
            "\n",
            "image 1/1 /content/Skin-Disease-Classification-4/test/Nail Onychopathies/distal-subungual-onychomycosis-135_jpg.rf.1224057bb156333f198eef5fe043d4bb.jpg: 224x224 Nail Onychopathies 0.89, Atopic-Dermatitis 0.06, Melanoma 0.02, Fissured-Skin 0.01, Basal-cell-carcinoma 0.00, 9.4ms\n",
            "Speed: 0.3ms preprocess, 9.4ms inference, 0.1ms postprocess per image at shape (1, 3, 224, 224)\n",
            "\n",
            "image 1/1 /content/Skin-Disease-Classification-4/test/Nail Onychopathies/clubbing-7_jpg.rf.6ebc8ff7e279d7995bf6a37d85542c92.jpg: 224x224 Nail Onychopathies 0.94, Atopic-Dermatitis 0.04, Fissured-Skin 0.02, Melanoma 0.00, Acne 0.00, 9.4ms\n",
            "Speed: 0.2ms preprocess, 9.4ms inference, 0.0ms postprocess per image at shape (1, 3, 224, 224)\n",
            "\n",
            "image 1/1 /content/Skin-Disease-Classification-4/test/Nail Onychopathies/nail-distal-splitting-14_jpg.rf.113b264da368f816baecc846839308a0.jpg: 224x224 Nail Onychopathies 1.00, Atopic-Dermatitis 0.00, Fissured-Skin 0.00, Melanoma 0.00, Basal-cell-carcinoma 0.00, 9.4ms\n",
            "Speed: 0.4ms preprocess, 9.4ms inference, 0.0ms postprocess per image at shape (1, 3, 224, 224)\n",
            "\n",
            "image 1/1 /content/Skin-Disease-Classification-4/test/Nail Onychopathies/biting-excoriation-13_jpg.rf.4488c967d0f8f0651ca0892a452a23ba.jpg: 224x224 Nail Onychopathies 0.99, Atopic-Dermatitis 0.00, Fissured-Skin 0.00, Acne 0.00, Basal-cell-carcinoma 0.00, 9.2ms\n",
            "Speed: 0.2ms preprocess, 9.2ms inference, 0.1ms postprocess per image at shape (1, 3, 224, 224)\n",
            "\n",
            "image 1/1 /content/Skin-Disease-Classification-4/test/Nail Onychopathies/onycholysis-15_jpg.rf.18a0b8a97358fa559f837fa29fc3d7ec.jpg: 224x224 Nail Onychopathies 0.51, Basal-cell-carcinoma 0.23, Atopic-Dermatitis 0.14, Fissured-Skin 0.07, Melanoma 0.03, 9.1ms\n",
            "Speed: 0.4ms preprocess, 9.1ms inference, 0.0ms postprocess per image at shape (1, 3, 224, 224)\n",
            "\n",
            "image 1/1 /content/Skin-Disease-Classification-4/test/Nail Onychopathies/chronic-paronychia-12_jpg.rf.5d47c9c30e323182b28810685bcc3cbe.jpg: 224x224 Nail Onychopathies 0.79, Atopic-Dermatitis 0.10, Fissured-Skin 0.09, Acne 0.01, Basal-cell-carcinoma 0.01, 9.1ms\n",
            "Speed: 0.2ms preprocess, 9.1ms inference, 0.1ms postprocess per image at shape (1, 3, 224, 224)\n",
            "\n",
            "image 1/1 /content/Skin-Disease-Classification-4/test/Nail Onychopathies/chronic-paronychia-27_jpg.rf.411e37b9f2705f5a16a50487b04d8a9d.jpg: 224x224 Nail Onychopathies 0.99, Atopic-Dermatitis 0.01, Fissured-Skin 0.00, Acne 0.00, Basal-cell-carcinoma 0.00, 10.7ms\n",
            "Speed: 0.3ms preprocess, 10.7ms inference, 0.0ms postprocess per image at shape (1, 3, 224, 224)\n",
            "\n",
            "image 1/1 /content/Skin-Disease-Classification-4/test/Nail Onychopathies/chronic-paronychia-9_jpg.rf.fa45576dade029377c73577f58eb6c42.jpg: 224x224 Nail Onychopathies 0.81, Fissured-Skin 0.10, Atopic-Dermatitis 0.08, Acne 0.00, Basal-cell-carcinoma 0.00, 9.1ms\n",
            "Speed: 0.3ms preprocess, 9.1ms inference, 0.0ms postprocess per image at shape (1, 3, 224, 224)\n",
            "\n",
            "image 1/1 /content/Skin-Disease-Classification-4/test/Nail Onychopathies/median-nail-dystrophy-14_jpg.rf.0bdd1d26c9fe998b75dcbaec82ab9c67.jpg: 224x224 Nail Onychopathies 0.97, Atopic-Dermatitis 0.02, Basal-cell-carcinoma 0.01, Fissured-Skin 0.00, Acne 0.00, 9.1ms\n",
            "Speed: 0.2ms preprocess, 9.1ms inference, 0.0ms postprocess per image at shape (1, 3, 224, 224)\n",
            "\n",
            "image 1/1 /content/Skin-Disease-Classification-4/test/Nail Onychopathies/chronic-paronychia-55_jpg.rf.7ccb4b9db0e7febce0afc5082dc495b8.jpg: 224x224 Nail Onychopathies 0.66, Atopic-Dermatitis 0.17, Fissured-Skin 0.16, Unlabeled 0.00, Basal-cell-carcinoma 0.00, 9.1ms\n",
            "Speed: 0.2ms preprocess, 9.1ms inference, 0.0ms postprocess per image at shape (1, 3, 224, 224)\n",
            "\n",
            "image 1/1 /content/Skin-Disease-Classification-4/test/Nail Onychopathies/koilonychia-2_jpg.rf.2710bff12063dc8c3361388260a63eea.jpg: 224x224 Nail Onychopathies 0.61, Fissured-Skin 0.19, Atopic-Dermatitis 0.13, Acne 0.04, Melanoma 0.01, 9.1ms\n",
            "Speed: 0.3ms preprocess, 9.1ms inference, 0.1ms postprocess per image at shape (1, 3, 224, 224)\n",
            "\n",
            "image 1/1 /content/Skin-Disease-Classification-4/test/Nail Onychopathies/median-nail-dystrophy-2_jpg.rf.500b92e0c7c771acc067b82ac484a8eb.jpg: 224x224 Nail Onychopathies 0.99, Atopic-Dermatitis 0.00, Fissured-Skin 0.00, Melanoma 0.00, Basal-cell-carcinoma 0.00, 9.1ms\n",
            "Speed: 0.3ms preprocess, 9.1ms inference, 0.0ms postprocess per image at shape (1, 3, 224, 224)\n",
            "\n",
            "image 1/1 /content/Skin-Disease-Classification-4/test/Nail Onychopathies/eczema-nail-1_jpg.rf.11cd53cde2f44a98731764955e79d994.jpg: 224x224 Nail Onychopathies 1.00, Atopic-Dermatitis 0.00, Fissured-Skin 0.00, Acne 0.00, Basal-cell-carcinoma 0.00, 9.2ms\n",
            "Speed: 0.3ms preprocess, 9.2ms inference, 0.0ms postprocess per image at shape (1, 3, 224, 224)\n",
            "\n",
            "image 1/1 /content/Skin-Disease-Classification-4/test/Nail Onychopathies/distal-subungual-onychomycosis-84_jpg.rf.930061db982e8ee9061ac6bc5487dd0e.jpg: 224x224 Nail Onychopathies 0.90, Basal-cell-carcinoma 0.07, Atopic-Dermatitis 0.02, Fissured-Skin 0.01, Melanoma 0.00, 9.2ms\n",
            "Speed: 0.3ms preprocess, 9.2ms inference, 0.0ms postprocess per image at shape (1, 3, 224, 224)\n",
            "\n",
            "image 1/1 /content/Skin-Disease-Classification-4/test/Nail Onychopathies/chronic-paronychia-11_jpg.rf.794c8e07b097099fa3e6dde7cb76ee12.jpg: 224x224 Nail Onychopathies 0.98, Atopic-Dermatitis 0.01, Fissured-Skin 0.01, Melanoma 0.00, Acne 0.00, 9.1ms\n",
            "Speed: 0.3ms preprocess, 9.1ms inference, 0.0ms postprocess per image at shape (1, 3, 224, 224)\n",
            "\n",
            "image 1/1 /content/Skin-Disease-Classification-4/test/Nail Onychopathies/pseudomonas-31_jpg.rf.ef4b243aba3eb64dde0b1dfefec9b176.jpg: 224x224 Nail Onychopathies 0.92, Atopic-Dermatitis 0.03, Fissured-Skin 0.02, Basal-cell-carcinoma 0.01, Acne 0.01, 9.1ms\n",
            "Speed: 0.2ms preprocess, 9.1ms inference, 0.1ms postprocess per image at shape (1, 3, 224, 224)\n",
            "\n",
            "image 1/1 /content/Skin-Disease-Classification-4/test/Nail Onychopathies/median-nail-dystrophy-6_jpg.rf.62099d8f1a1e150ba4deb5341913f025.jpg: 224x224 Nail Onychopathies 0.98, Atopic-Dermatitis 0.01, Fissured-Skin 0.01, Melanoma 0.00, Acne 0.00, 9.1ms\n",
            "Speed: 0.2ms preprocess, 9.1ms inference, 0.0ms postprocess per image at shape (1, 3, 224, 224)\n",
            "\n",
            "image 1/1 /content/Skin-Disease-Classification-4/test/Nail Onychopathies/mucous-cyst-59_jpg.rf.0663f05e58c6f6e22bd36e26eb983398.jpg: 224x224 Nail Onychopathies 0.90, Atopic-Dermatitis 0.04, Basal-cell-carcinoma 0.03, Fissured-Skin 0.02, Melanoma 0.00, 9.1ms\n",
            "Speed: 0.3ms preprocess, 9.1ms inference, 0.0ms postprocess per image at shape (1, 3, 224, 224)\n",
            "\n",
            "image 1/1 /content/Skin-Disease-Classification-4/test/Nail Onychopathies/habit-tic-deformity-14_jpg.rf.6154c1efaf7e5d2bae4d2d681c08d8d8.jpg: 224x224 Nail Onychopathies 0.99, Atopic-Dermatitis 0.00, Fissured-Skin 0.00, Melanoma 0.00, Basal-cell-carcinoma 0.00, 9.1ms\n",
            "Speed: 0.3ms preprocess, 9.1ms inference, 0.1ms postprocess per image at shape (1, 3, 224, 224)\n",
            "\n",
            "image 1/1 /content/Skin-Disease-Classification-4/test/Nail Onychopathies/mucous-cyst-88_jpg.rf.c4ab83aba75e2483529dd99eb8623947.jpg: 224x224 Nail Onychopathies 0.48, Fissured-Skin 0.32, Atopic-Dermatitis 0.17, Acne 0.01, Unlabeled 0.01, 9.2ms\n",
            "Speed: 0.2ms preprocess, 9.2ms inference, 0.1ms postprocess per image at shape (1, 3, 224, 224)\n",
            "\n",
            "image 1/1 /content/Skin-Disease-Classification-4/test/Nail Onychopathies/koilonychia-5_jpg.rf.2165ebb8cd65c1e04bd3b97d3481fdb6.jpg: 224x224 Nail Onychopathies 0.95, Atopic-Dermatitis 0.02, Fissured-Skin 0.02, Basal-cell-carcinoma 0.01, Melanoma 0.00, 9.1ms\n",
            "Speed: 0.2ms preprocess, 9.1ms inference, 0.1ms postprocess per image at shape (1, 3, 224, 224)\n",
            "\n",
            "image 1/1 /content/Skin-Disease-Classification-4/test/Nail Onychopathies/habit-tic-deformity-39_jpg.rf.e45dbd893b4781a46287323659885fbe.jpg: 224x224 Nail Onychopathies 0.98, Basal-cell-carcinoma 0.01, Atopic-Dermatitis 0.01, Fissured-Skin 0.00, Acne 0.00, 9.1ms\n",
            "Speed: 0.3ms preprocess, 9.1ms inference, 0.0ms postprocess per image at shape (1, 3, 224, 224)\n",
            "\n",
            "image 1/1 /content/Skin-Disease-Classification-4/test/Nail Onychopathies/distal-subungual-onychomycosis-24_jpg.rf.60ef606cfe9f258d1ba9308976c67b53.jpg: 224x224 Nail Onychopathies 0.56, Fissured-Skin 0.31, Atopic-Dermatitis 0.11, Acne 0.01, Basal-cell-carcinoma 0.01, 9.1ms\n",
            "Speed: 0.2ms preprocess, 9.1ms inference, 0.0ms postprocess per image at shape (1, 3, 224, 224)\n",
            "\n",
            "image 1/1 /content/Skin-Disease-Classification-4/test/Nail Onychopathies/distal-subungual-onychomycosis-112_jpg.rf.350475b3c65e57a02f9349e87c69b048.jpg: 224x224 Nail Onychopathies 0.96, Atopic-Dermatitis 0.03, Fissured-Skin 0.01, Melanoma 0.00, Basal-cell-carcinoma 0.00, 9.1ms\n",
            "Speed: 0.2ms preprocess, 9.1ms inference, 0.0ms postprocess per image at shape (1, 3, 224, 224)\n",
            "\n",
            "image 1/1 /content/Skin-Disease-Classification-4/test/Nail Onychopathies/distal-subungual-onychomycosis-156_jpg.rf.65b60c4e3a59f38a4e44bcbb14497df6.jpg: 224x224 Nail Onychopathies 0.99, Atopic-Dermatitis 0.00, Fissured-Skin 0.00, Acne 0.00, Basal-cell-carcinoma 0.00, 9.2ms\n",
            "Speed: 0.3ms preprocess, 9.2ms inference, 0.0ms postprocess per image at shape (1, 3, 224, 224)\n",
            "\n",
            "image 1/1 /content/Skin-Disease-Classification-4/test/Nail Onychopathies/pincer-nails-5_jpg.rf.38ae88792cfcc91f251a667a5a2aa3e4.jpg: 224x224 Fissured-Skin 0.44, Nail Onychopathies 0.34, Atopic-Dermatitis 0.20, Acne 0.01, Unlabeled 0.01, 9.0ms\n",
            "Speed: 0.3ms preprocess, 9.0ms inference, 0.0ms postprocess per image at shape (1, 3, 224, 224)\n",
            "\n",
            "image 1/1 /content/Skin-Disease-Classification-4/test/Nail Onychopathies/clubbing-14_jpg.rf.690b4c602c0fbeb123020ec90a72f656.jpg: 224x224 Nail Onychopathies 0.91, Atopic-Dermatitis 0.05, Fissured-Skin 0.03, Melanoma 0.00, Acne 0.00, 9.7ms\n",
            "Speed: 0.3ms preprocess, 9.7ms inference, 0.0ms postprocess per image at shape (1, 3, 224, 224)\n",
            "\n",
            "image 1/1 /content/Skin-Disease-Classification-4/test/Nail Onychopathies/blue-nails-minocycline-3_jpg.rf.d9d8c7c59357df09d4a4f07285bfb8bd.jpg: 224x224 Basal-cell-carcinoma 0.27, Acne 0.24, Atopic-Dermatitis 0.23, Nail Onychopathies 0.21, Fissured-Skin 0.03, 9.2ms\n",
            "Speed: 0.3ms preprocess, 9.2ms inference, 0.0ms postprocess per image at shape (1, 3, 224, 224)\n",
            "\n",
            "image 1/1 /content/Skin-Disease-Classification-4/test/Nail Onychopathies/chronic-paronychia-21_jpg.rf.384d65eb785b12c74e9995eb84c13eab.jpg: 224x224 Nail Onychopathies 0.98, Atopic-Dermatitis 0.01, Fissured-Skin 0.01, Acne 0.00, Melanoma 0.00, 9.1ms\n",
            "Speed: 0.3ms preprocess, 9.1ms inference, 0.1ms postprocess per image at shape (1, 3, 224, 224)\n",
            "\n",
            "image 1/1 /content/Skin-Disease-Classification-4/test/Nail Onychopathies/mucous-cyst-62_jpg.rf.36c46e8e2b4bbc83d585e8cfb69d8196.jpg: 224x224 Nail Onychopathies 0.99, Atopic-Dermatitis 0.00, Fissured-Skin 0.00, Basal-cell-carcinoma 0.00, Acne 0.00, 9.1ms\n",
            "Speed: 0.2ms preprocess, 9.1ms inference, 0.0ms postprocess per image at shape (1, 3, 224, 224)\n",
            "\n",
            "image 1/1 /content/Skin-Disease-Classification-4/test/Nail Onychopathies/distal-subungual-onychomycosis-15_jpg.rf.8706f02261dbdded6387167f064c54f2.jpg: 224x224 Nail Onychopathies 0.85, Atopic-Dermatitis 0.07, Fissured-Skin 0.05, Melanoma 0.01, Acne 0.01, 9.1ms\n",
            "Speed: 0.3ms preprocess, 9.1ms inference, 0.0ms postprocess per image at shape (1, 3, 224, 224)\n",
            "\n",
            "image 1/1 /content/Skin-Disease-Classification-4/test/Nail Onychopathies/onycholysis-12_jpg.rf.5c31c61898190c94800123a8db4b8bba.jpg: 224x224 Nail Onychopathies 0.53, Basal-cell-carcinoma 0.28, Atopic-Dermatitis 0.15, Acne 0.03, Fissured-Skin 0.01, 9.1ms\n",
            "Speed: 0.2ms preprocess, 9.1ms inference, 0.0ms postprocess per image at shape (1, 3, 224, 224)\n",
            "\n",
            "image 1/1 /content/Skin-Disease-Classification-4/test/Nail Onychopathies/nail-distal-splitting-13_jpg.rf.c727e54ade26ebc6d23d53f1eb285901.jpg: 224x224 Nail Onychopathies 1.00, Atopic-Dermatitis 0.00, Fissured-Skin 0.00, Basal-cell-carcinoma 0.00, Melanoma 0.00, 9.1ms\n",
            "Speed: 0.3ms preprocess, 9.1ms inference, 0.0ms postprocess per image at shape (1, 3, 224, 224)\n",
            "\n",
            "image 1/1 /content/Skin-Disease-Classification-4/test/Nail Onychopathies/beaus-lines-6_jpg.rf.3373b3ab09d7bd08df4ec05d3e37c6d6.jpg: 224x224 Nail Onychopathies 0.50, Fissured-Skin 0.24, Atopic-Dermatitis 0.23, Acne 0.01, Basal-cell-carcinoma 0.01, 9.3ms\n",
            "Speed: 0.3ms preprocess, 9.3ms inference, 0.1ms postprocess per image at shape (1, 3, 224, 224)\n",
            "\n",
            "image 1/1 /content/Skin-Disease-Classification-4/test/Nail Onychopathies/distal-subungual-onychomycosis-120_jpg.rf.9a45da93d807368165ee553e740f9232.jpg: 224x224 Nail Onychopathies 0.99, Atopic-Dermatitis 0.01, Fissured-Skin 0.00, Basal-cell-carcinoma 0.00, Melanoma 0.00, 9.2ms\n",
            "Speed: 0.3ms preprocess, 9.2ms inference, 0.2ms postprocess per image at shape (1, 3, 224, 224)\n",
            "\n",
            "image 1/1 /content/Skin-Disease-Classification-4/test/Nail Onychopathies/pincer-nails-7_jpg.rf.23478c9729ad365d34d7334001591594.jpg: 224x224 Nail Onychopathies 0.74, Fissured-Skin 0.17, Atopic-Dermatitis 0.08, Acne 0.01, Melanoma 0.00, 9.5ms\n",
            "Speed: 0.3ms preprocess, 9.5ms inference, 0.1ms postprocess per image at shape (1, 3, 224, 224)\n",
            "\n",
            "image 1/1 /content/Skin-Disease-Classification-4/test/Nail Onychopathies/eczema-nail-6_jpg.rf.edc76542363a39ae5c85e69e6885bbb3.jpg: 224x224 Nail Onychopathies 0.99, Atopic-Dermatitis 0.00, Basal-cell-carcinoma 0.00, Fissured-Skin 0.00, Melanoma 0.00, 9.2ms\n",
            "Speed: 0.3ms preprocess, 9.2ms inference, 0.1ms postprocess per image at shape (1, 3, 224, 224)\n",
            "\n",
            "image 1/1 /content/Skin-Disease-Classification-4/test/Nail Onychopathies/median-nail-dystrophy-10_jpg.rf.3fab232c5a6b0d089129c88e91ca992b.jpg: 224x224 Nail Onychopathies 0.95, Fissured-Skin 0.03, Atopic-Dermatitis 0.02, Acne 0.00, Unlabeled 0.00, 9.1ms\n",
            "Speed: 0.3ms preprocess, 9.1ms inference, 0.1ms postprocess per image at shape (1, 3, 224, 224)\n",
            "\n",
            "image 1/1 /content/Skin-Disease-Classification-4/test/Nail Onychopathies/chronic-paronychia-51_jpg.rf.e8cb0ff07a40802ad1ae960a1d27f9de.jpg: 224x224 Nail Onychopathies 1.00, Atopic-Dermatitis 0.00, Fissured-Skin 0.00, Acne 0.00, Basal-cell-carcinoma 0.00, 9.1ms\n",
            "Speed: 0.2ms preprocess, 9.1ms inference, 0.1ms postprocess per image at shape (1, 3, 224, 224)\n",
            "\n",
            "image 1/1 /content/Skin-Disease-Classification-4/test/Nail Onychopathies/onycholysis-16_jpg.rf.50f6057b0f8db98e277f9cab7ac38859.jpg: 224x224 Nail Onychopathies 0.83, Atopic-Dermatitis 0.07, Fissured-Skin 0.04, Basal-cell-carcinoma 0.03, Melanoma 0.02, 9.3ms\n",
            "Speed: 0.3ms preprocess, 9.3ms inference, 0.1ms postprocess per image at shape (1, 3, 224, 224)\n",
            "\n",
            "image 1/1 /content/Skin-Disease-Classification-4/test/Nail Onychopathies/darier-nails-1_jpg.rf.f3130387761523839334ee1f1a4a2cb7.jpg: 224x224 Nail Onychopathies 0.96, Atopic-Dermatitis 0.02, Fissured-Skin 0.01, Acne 0.00, Basal-cell-carcinoma 0.00, 9.1ms\n",
            "Speed: 0.3ms preprocess, 9.1ms inference, 0.0ms postprocess per image at shape (1, 3, 224, 224)\n",
            "\n",
            "image 1/1 /content/Skin-Disease-Classification-4/test/Nail Onychopathies/periungual-warts-12_jpg.rf.f359c32c59d0fc03dad077bb58fa52fd.jpg: 224x224 Nail Onychopathies 0.87, Atopic-Dermatitis 0.06, Fissured-Skin 0.04, Melanoma 0.02, Basal-cell-carcinoma 0.00, 9.1ms\n",
            "Speed: 0.3ms preprocess, 9.1ms inference, 0.1ms postprocess per image at shape (1, 3, 224, 224)\n",
            "\n",
            "image 1/1 /content/Skin-Disease-Classification-4/test/Nail Onychopathies/habit-tic-deformity-51_jpg.rf.e7ff88448407b2bf34fa94aaba5e14db.jpg: 224x224 Nail Onychopathies 0.77, Atopic-Dermatitis 0.08, Basal-cell-carcinoma 0.07, Fissured-Skin 0.04, Acne 0.03, 9.1ms\n",
            "Speed: 0.3ms preprocess, 9.1ms inference, 0.1ms postprocess per image at shape (1, 3, 224, 224)\n",
            "\n",
            "image 1/1 /content/Skin-Disease-Classification-4/test/Nail Onychopathies/distal-subungual-onychomycosis-125_jpg.rf.e740d2623ecf30b4f044221e308f3bd6.jpg: 224x224 Nail Onychopathies 0.99, Fissured-Skin 0.01, Atopic-Dermatitis 0.00, Basal-cell-carcinoma 0.00, Acne 0.00, 9.1ms\n",
            "Speed: 0.3ms preprocess, 9.1ms inference, 0.0ms postprocess per image at shape (1, 3, 224, 224)\n",
            "\n",
            "image 1/1 /content/Skin-Disease-Classification-4/test/Nail Onychopathies/mucous-cyst-22_jpg.rf.2fabbe14d2e8cd78228ba93d82b55e73.jpg: 224x224 Atopic-Dermatitis 0.63, Fissured-Skin 0.28, Nail Onychopathies 0.06, Unlabeled 0.02, Melanoma 0.00, 9.1ms\n",
            "Speed: 0.2ms preprocess, 9.1ms inference, 0.0ms postprocess per image at shape (1, 3, 224, 224)\n",
            "\n",
            "image 1/1 /content/Skin-Disease-Classification-4/test/Nail Onychopathies/koilonychia-11_jpg.rf.6e8dbfa1c53596949779084076cad4b8.jpg: 224x224 Nail Onychopathies 0.89, Atopic-Dermatitis 0.07, Acne 0.01, Melanoma 0.01, Fissured-Skin 0.01, 9.1ms\n",
            "Speed: 0.2ms preprocess, 9.1ms inference, 0.0ms postprocess per image at shape (1, 3, 224, 224)\n",
            "\n",
            "image 1/1 /content/Skin-Disease-Classification-4/test/Nail Onychopathies/psoriasis-118_jpg.rf.6c326378a7cdcbac7218e7bc1200b4cc.jpg: 224x224 Nail Onychopathies 0.93, Atopic-Dermatitis 0.05, Fissured-Skin 0.01, Melanoma 0.00, Unlabeled 0.00, 9.7ms\n",
            "Speed: 0.3ms preprocess, 9.7ms inference, 0.1ms postprocess per image at shape (1, 3, 224, 224)\n",
            "\n",
            "image 1/1 /content/Skin-Disease-Classification-4/test/Nail Onychopathies/nail-melanoma-1_jpg.rf.068a2d7a3195ecc377604686bf410311.jpg: 224x224 Nail Onychopathies 0.33, Basal-cell-carcinoma 0.29, Atopic-Dermatitis 0.24, Fissured-Skin 0.07, Acne 0.06, 10.2ms\n",
            "Speed: 0.3ms preprocess, 10.2ms inference, 0.1ms postprocess per image at shape (1, 3, 224, 224)\n",
            "\n",
            "image 1/1 /content/Skin-Disease-Classification-4/test/Nail Onychopathies/mucous-cyst-69_jpg.rf.ca4a7124b9b3fdce34af36447285fac6.jpg: 224x224 Nail Onychopathies 0.79, Fissured-Skin 0.12, Atopic-Dermatitis 0.08, Unlabeled 0.00, Melanoma 0.00, 10.4ms\n",
            "Speed: 0.4ms preprocess, 10.4ms inference, 0.0ms postprocess per image at shape (1, 3, 224, 224)\n",
            "\n",
            "image 1/1 /content/Skin-Disease-Classification-4/test/Nail Onychopathies/mucous-cyst-2_jpg.rf.c81be23e471234ae6afdf4386a19f948.jpg: 224x224 Atopic-Dermatitis 0.39, Nail Onychopathies 0.30, Fissured-Skin 0.10, Acne 0.09, Melanoma 0.08, 9.1ms\n",
            "Speed: 0.2ms preprocess, 9.1ms inference, 0.0ms postprocess per image at shape (1, 3, 224, 224)\n",
            "\n",
            "image 1/1 /content/Skin-Disease-Classification-4/test/Nail Onychopathies/median-nail-dystrophy-24_jpg.rf.bd2b389db322a67d4dcc297ceca1c689.jpg: 224x224 Nail Onychopathies 0.95, Atopic-Dermatitis 0.02, Fissured-Skin 0.02, Basal-cell-carcinoma 0.01, Acne 0.00, 9.1ms\n",
            "Speed: 0.2ms preprocess, 9.1ms inference, 0.0ms postprocess per image at shape (1, 3, 224, 224)\n",
            "\n",
            "image 1/1 /content/Skin-Disease-Classification-4/test/Nail Onychopathies/biting-excoriation-17_jpg.rf.d4c895c9a2f665507f1c432bd5a0204f.jpg: 224x224 Nail Onychopathies 0.81, Atopic-Dermatitis 0.08, Basal-cell-carcinoma 0.06, Fissured-Skin 0.03, Acne 0.01, 9.2ms\n",
            "Speed: 0.3ms preprocess, 9.2ms inference, 0.0ms postprocess per image at shape (1, 3, 224, 224)\n",
            "\n",
            "image 1/1 /content/Skin-Disease-Classification-4/test/Nail Onychopathies/psoriasis-38_jpg.rf.100dba77d3b70af56a8895990e4804b7.jpg: 224x224 Nail Onychopathies 0.90, Atopic-Dermatitis 0.05, Fissured-Skin 0.02, Basal-cell-carcinoma 0.02, Acne 0.00, 10.3ms\n",
            "Speed: 0.3ms preprocess, 10.3ms inference, 0.1ms postprocess per image at shape (1, 3, 224, 224)\n",
            "\n",
            "image 1/1 /content/Skin-Disease-Classification-4/test/Nail Onychopathies/psoriasis-172_jpg.rf.08cf622d901f9eaeafa14f77737bf433.jpg: 224x224 Nail Onychopathies 1.00, Atopic-Dermatitis 0.00, Basal-cell-carcinoma 0.00, Fissured-Skin 0.00, Melanoma 0.00, 9.1ms\n",
            "Speed: 0.2ms preprocess, 9.1ms inference, 0.0ms postprocess per image at shape (1, 3, 224, 224)\n",
            "\n",
            "image 1/1 /content/Skin-Disease-Classification-4/test/Nail Onychopathies/leukonychia-6_jpg.rf.072f0eb34c8c8562e3e575ff6a068874.jpg: 224x224 Nail Onychopathies 0.99, Atopic-Dermatitis 0.00, Basal-cell-carcinoma 0.00, Fissured-Skin 0.00, Melanoma 0.00, 9.1ms\n",
            "Speed: 0.2ms preprocess, 9.1ms inference, 0.0ms postprocess per image at shape (1, 3, 224, 224)\n",
            "\n",
            "image 1/1 /content/Skin-Disease-Classification-4/test/Nail Onychopathies/beaus-lines-3_jpg.rf.b95095d8f9d8bef061bff1dbaaafbe5c.jpg: 224x224 Nail Onychopathies 0.78, Atopic-Dermatitis 0.15, Basal-cell-carcinoma 0.04, Fissured-Skin 0.02, Melanoma 0.00, 9.1ms\n",
            "Speed: 0.2ms preprocess, 9.1ms inference, 0.0ms postprocess per image at shape (1, 3, 224, 224)\n",
            "\n",
            "image 1/1 /content/Skin-Disease-Classification-4/test/Nail Onychopathies/mucous-cyst-96_jpg.rf.51d0ea8b2727bdc4beb54673e38e0b7a.jpg: 224x224 Nail Onychopathies 0.71, Atopic-Dermatitis 0.11, Fissured-Skin 0.09, Melanoma 0.06, Basal-cell-carcinoma 0.01, 9.1ms\n",
            "Speed: 0.3ms preprocess, 9.1ms inference, 0.0ms postprocess per image at shape (1, 3, 224, 224)\n",
            "\n",
            "image 1/1 /content/Skin-Disease-Classification-4/test/Nail Onychopathies/pincer-nails-19_jpg.rf.59740814db4a1a50b46eb2d8a4a3af47.jpg: 224x224 Nail Onychopathies 0.96, Atopic-Dermatitis 0.02, Fissured-Skin 0.01, Basal-cell-carcinoma 0.00, Acne 0.00, 9.3ms\n",
            "Speed: 0.2ms preprocess, 9.3ms inference, 0.0ms postprocess per image at shape (1, 3, 224, 224)\n",
            "\n",
            "image 1/1 /content/Skin-Disease-Classification-4/test/Nail Onychopathies/nail-distal-splitting-4_jpg.rf.c86105af4c03573f14affb8f13b0e8c2.jpg: 224x224 Nail Onychopathies 0.95, Fissured-Skin 0.02, Atopic-Dermatitis 0.02, Basal-cell-carcinoma 0.01, Acne 0.00, 9.1ms\n",
            "Speed: 0.3ms preprocess, 9.1ms inference, 0.0ms postprocess per image at shape (1, 3, 224, 224)\n",
            "\n",
            "image 1/1 /content/Skin-Disease-Classification-4/test/Nail Onychopathies/eczema-nail-15_jpg.rf.6272e85b8a5c2c05f8420eef47c0302e.jpg: 224x224 Nail Onychopathies 0.99, Atopic-Dermatitis 0.01, Fissured-Skin 0.00, Acne 0.00, Basal-cell-carcinoma 0.00, 9.1ms\n",
            "Speed: 0.2ms preprocess, 9.1ms inference, 0.0ms postprocess per image at shape (1, 3, 224, 224)\n",
            "\n",
            "image 1/1 /content/Skin-Disease-Classification-4/test/Nail Onychopathies/chronic-paronychia-44_jpg.rf.e32e55493fa8f0dd8213e7c33ebdd4bb.jpg: 224x224 Nail Onychopathies 0.98, Atopic-Dermatitis 0.01, Fissured-Skin 0.01, Acne 0.00, Melanoma 0.00, 9.2ms\n",
            "Speed: 0.3ms preprocess, 9.2ms inference, 0.0ms postprocess per image at shape (1, 3, 224, 224)\n",
            "\n",
            "image 1/1 /content/Skin-Disease-Classification-4/test/Nail Onychopathies/median-nail-dystrophy-31_jpg.rf.2147236db456d9f6c7fe76dc5c431865.jpg: 224x224 Nail Onychopathies 0.97, Atopic-Dermatitis 0.01, Fissured-Skin 0.01, Basal-cell-carcinoma 0.00, Acne 0.00, 9.1ms\n",
            "Speed: 0.2ms preprocess, 9.1ms inference, 0.0ms postprocess per image at shape (1, 3, 224, 224)\n",
            "\n",
            "image 1/1 /content/Skin-Disease-Classification-4/test/Nail Onychopathies/beaus-lines-4_jpg.rf.330414dd72ea2eb359e3ea17615a543d.jpg: 224x224 Nail Onychopathies 0.98, Atopic-Dermatitis 0.01, Fissured-Skin 0.01, Melanoma 0.00, Acne 0.00, 9.1ms\n",
            "Speed: 0.2ms preprocess, 9.1ms inference, 0.0ms postprocess per image at shape (1, 3, 224, 224)\n"
          ]
        }
      ]
    },
    {
      "cell_type": "markdown",
      "source": [
        "# Acuracy On TestSet"
      ],
      "metadata": {
        "id": "lrkmBKYWvz_O"
      }
    },
    {
      "cell_type": "code",
      "source": [
        "from sklearn.metrics import accuracy_score\n",
        "\n",
        "# Calculate accuracy\n",
        "accuracy = accuracy_score(Actual, Predicted)\n",
        "print(f\"Accuracy: {accuracy * 100:.2f}%\")"
      ],
      "metadata": {
        "colab": {
          "base_uri": "https://localhost:8080/"
        },
        "id": "MZidv-XinYNa",
        "outputId": "788255e2-e7e4-4a46-dfb2-12f19def42b1"
      },
      "execution_count": 6,
      "outputs": [
        {
          "output_type": "stream",
          "name": "stdout",
          "text": [
            "Accuracy: 74.07%\n"
          ]
        }
      ]
    },
    {
      "cell_type": "code",
      "source": [
        "from sklearn.metrics import confusion_matrix\n",
        "\n",
        "confusion_mat = confusion_matrix(Actual, Predicted)\n",
        "print(\"Confusion Matrix:\")\n",
        "print(confusion_mat)"
      ],
      "metadata": {
        "colab": {
          "base_uri": "https://localhost:8080/"
        },
        "id": "rd9P4Q4Xx5U7",
        "outputId": "249b8911-5198-4344-c64b-b658037ad048"
      },
      "execution_count": 7,
      "outputs": [
        {
          "output_type": "stream",
          "name": "stdout",
          "text": [
            "Confusion Matrix:\n",
            "[[49  4  2  2  1  0]\n",
            " [11 10  5  6  2  0]\n",
            " [ 1  2 12  0  0  1]\n",
            " [ 1  6  1  9  0  1]\n",
            " [ 1  3  5  0 24  0]\n",
            " [ 0  3  1  4  0 76]]\n"
          ]
        }
      ]
    },
    {
      "cell_type": "code",
      "source": [
        "from sklearn.metrics import precision_score, recall_score, f1_score\n",
        "\n",
        "precision = precision_score(Actual, Predicted, average='weighted')\n",
        "recall = recall_score(Actual, Predicted, average='weighted')\n",
        "f1 = f1_score(Actual, Predicted, average='weighted')\n",
        "\n",
        "print(f\"Precision: {precision:.2f}\")\n",
        "print(f\"Recall: {recall:.2f}\")\n",
        "print(f\"F1-Score: {f1:.2f}\")\n"
      ],
      "metadata": {
        "colab": {
          "base_uri": "https://localhost:8080/"
        },
        "id": "81glySPPx6G4",
        "outputId": "92d69e86-939a-4298-8ff3-b7521d1c3a83"
      },
      "execution_count": 8,
      "outputs": [
        {
          "output_type": "stream",
          "name": "stdout",
          "text": [
            "Precision: 0.76\n",
            "Recall: 0.74\n",
            "F1-Score: 0.74\n"
          ]
        }
      ]
    },
    {
      "cell_type": "code",
      "source": [
        "from sklearn.metrics import classification_report\n",
        "\n",
        "report = classification_report(Actual, Predicted)\n",
        "print(\"Classification Report:\")\n",
        "print(report)\n"
      ],
      "metadata": {
        "colab": {
          "base_uri": "https://localhost:8080/"
        },
        "id": "3LdaYsF8yTwe",
        "outputId": "46198377-fcc8-4676-e744-b11d08703b88"
      },
      "execution_count": 9,
      "outputs": [
        {
          "output_type": "stream",
          "name": "stdout",
          "text": [
            "Classification Report:\n",
            "              precision    recall  f1-score   support\n",
            "\n",
            "           0       0.78      0.84      0.81        58\n",
            "           1       0.36      0.29      0.32        34\n",
            "           2       0.46      0.75      0.57        16\n",
            "           3       0.43      0.50      0.46        18\n",
            "           4       0.89      0.73      0.80        33\n",
            "           5       0.97      0.90      0.94        84\n",
            "\n",
            "    accuracy                           0.74       243\n",
            "   macro avg       0.65      0.67      0.65       243\n",
            "weighted avg       0.76      0.74      0.74       243\n",
            "\n"
          ]
        }
      ]
    }
  ],
  "metadata": {
    "accelerator": "GPU",
    "colab": {
      "provenance": [],
      "authorship_tag": "ABX9TyNQxLIi8SNw5wLopvlP6fSq",
      "include_colab_link": true
    },
    "kernelspec": {
      "display_name": "Python 3",
      "name": "python3"
    },
    "language_info": {
      "name": "python"
    }
  },
  "nbformat": 4,
  "nbformat_minor": 0
}